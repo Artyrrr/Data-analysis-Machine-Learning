{
 "cells": [
  {
   "cell_type": "code",
   "execution_count": 2,
   "metadata": {
    "collapsed": true,
    "pycharm": {
     "name": "#%%\n"
    }
   },
   "outputs": [],
   "source": [
    "import os\n",
    "import re\n",
    "\n",
    "\n",
    "BASE_DATA_DIR = os.path.join(os.getcwd(), 'data\\\\SpamSMS') # датасет лежит в data\n",
    "subdirs = ['ham', 'spam']\n",
    "data_file_name = 'SMSSpamCollection.txt'"
   ]
  },
  {
   "cell_type": "markdown",
   "metadata": {},
   "source": [
    "Преобразуйте базу следующим образом: пусть будет две папки spam и ham. В папке spam - спам-сообщения, в папке ham,\n",
    "соответственно, обычные."
   ]
  },
  {
   "cell_type": "code",
   "execution_count": 10,
   "metadata": {
    "pycharm": {
     "name": "#%%\n"
    }
   },
   "outputs": [],
   "source": [
    "# создаём /ham и /spam\n",
    "for _, subdir in enumerate(subdirs):\n",
    "    subdir_path = os.path.join(BASE_DATA_DIR, subdir)\n",
    "    os.makedirs(subdir_path, exist_ok=True)\n",
    "\n",
    "# читаем сообщения с игнорированием ошибок, так как с юникодом что то внутри не так\n",
    "with open(os.path.join(BASE_DATA_DIR, data_file_name), 'r', errors='ignore') as f:\n",
    "    for i, line in enumerate(f):\n",
    "        format_line = f\"{' '.join(line.split()[1:])}\" # убираем в строке маркер ham|spam\n",
    "        if line.split()[0] == 'ham':\n",
    "            file_path = os.path.join(BASE_DATA_DIR, subdirs[0], f'{i}.txt')\n",
    "            with open(file_path, 'a') as f_txt:\n",
    "                f_txt.write(format_line)\n",
    "        elif line.split()[0] == 'spam':\n",
    "            file_path = os.path.join(BASE_DATA_DIR, subdirs[1], f'{i}.txt')\n",
    "            with open(file_path, 'a') as f_txt:\n",
    "                f_txt.write(format_line)"
   ]
  },
  {
   "cell_type": "markdown",
   "metadata": {},
   "source": [
    "1. Определите общее количество сообщений, количество спам и обычных сообщений."
   ]
  },
  {
   "cell_type": "code",
   "execution_count": 11,
   "metadata": {
    "pycharm": {
     "name": "#%%\n"
    }
   },
   "outputs": [
    {
     "name": "stdout",
     "output_type": "stream",
     "text": [
      "ham SMS: 4827\n",
      "spam SMS: 747\n",
      "total SMS: 5574\n"
     ]
    }
   ],
   "source": [
    "total_sms = 0\n",
    "for _, subdir in enumerate(subdirs):\n",
    "    subdir_path = os.path.join(BASE_DATA_DIR, subdir)\n",
    "    files = os.listdir(subdir_path)\n",
    "    total_sms += len(files)\n",
    "    print(f'{subdir} SMS: {len(files)}')\n",
    "print(f'total SMS: {total_sms}')"
   ]
  },
  {
   "cell_type": "markdown",
   "metadata": {},
   "source": [
    "**Ответ**:\n",
    "\n",
    "ham SMS: 4827\n",
    "\n",
    "spam SMS: 747\n",
    "\n",
    "total SMS: 5574"
   ]
  },
  {
   "cell_type": "markdown",
   "metadata": {},
   "source": [
    "2. Найдите минимальную, максимальную и среднюю длину файлов для всех сообщений и отдельно для каждой\n",
    "из категорий (спам и обычные)."
   ]
  },
  {
   "cell_type": "code",
   "execution_count": 19,
   "metadata": {
    "pycharm": {
     "name": "#%%\n"
    }
   },
   "outputs": [
    {
     "name": "stdout",
     "output_type": "stream",
     "text": [
      "\n",
      "\n",
      "ham (bytes):\n",
      "min length: 2\n",
      "max length: 910\n",
      "average:     71\n",
      "\n",
      "\n",
      "spam (bytes):\n",
      "min length: 13\n",
      "max length: 224\n",
      "average:     139\n",
      "\n",
      "\n",
      "TOTAL (bytes):\n",
      "min length: 2\n",
      "max length: 910\n",
      "average: 80\n"
     ]
    }
   ],
   "source": [
    "# храним длины в списках, а списки в словаре\n",
    "length_file_info = {'spam': list(),\n",
    "                    'ham': list()}\n",
    "\n",
    "for _, subdir in enumerate(subdirs):\n",
    "    # получаем все пути\n",
    "    subdir_path = os.path.join(BASE_DATA_DIR, subdir)\n",
    "    files = os.listdir(subdir_path)\n",
    "\n",
    "    # проходим по файлам и получаем информацию о размере файла в байтах через метод\n",
    "    # os.stat() и атрибут .st_size\n",
    "    for _, file in enumerate(files):\n",
    "        file_info = os.stat(os.path.join(subdir_path, file))\n",
    "        length_file_info[subdir].append(file_info.st_size)\n",
    "\n",
    "    # вывод информации, средний размер округлен до 2-ух знаков после запятой\n",
    "    print(f\"\\n\\n{subdir} (bytes):\\nmin length: {min(length_file_info[subdir])}\\nmax length: {max(length_file_info[subdir])}\\naverage:\\\n",
    "     {round(sum(length_file_info[subdir]) / len(length_file_info[subdir]))}\")\n",
    "\n",
    "# соединяем два списка в один для вывода общей информации\n",
    "total_info = length_file_info['spam'].copy()\n",
    "total_info.extend(length_file_info['ham'])\n",
    "print(f\"\\n\\nTOTAL (bytes):\\nmin length: {min(total_info)}\\nmax length: {max(total_info)}\\naverage:\\\n",
    " {round(sum(total_info) / len(total_info))}\")"
   ]
  },
  {
   "cell_type": "markdown",
   "metadata": {},
   "source": [
    "**Ответ**:\n",
    "\n",
    "ham (bytes):\n",
    "\n",
    "    min length: 2\n",
    "    max length: 910\n",
    "    average:     71\n",
    "\n",
    "\n",
    "spam (bytes):\n",
    "\n",
    "    min length: 13\n",
    "    max length: 224\n",
    "    average:     139\n",
    "\n",
    "\n",
    "TOTAL (bytes):\n",
    "\n",
    "    min length: 2\n",
    "    max length: 910\n",
    "    average: 80"
   ]
  },
  {
   "cell_type": "markdown",
   "metadata": {
    "pycharm": {
     "name": "#%% md\n"
    }
   },
   "source": [
    "3. Найдите 20 самых популярных слов по всем сообщениям и по каждой из категорий. Словом будем считать любой набор букв,\n",
    "отделенный с двух сторон пробелами либо другими разделительными символами - точкой, запятой, восклицательным знаком,\n",
    "и т.д. Или отделенный с одной стороны, если этот набор находится в начале/конце сообщения."
   ]
  },
  {
   "cell_type": "code",
   "execution_count": 4,
   "metadata": {
    "pycharm": {
     "name": "#%%\n"
    }
   },
   "outputs": [
    {
     "name": "stdout",
     "output_type": "stream",
     "text": [
      "20 top total words: [('to', 2159), ('you', 1832), ('I', 1533), ('a', 1342), ('the', 1211), ('and', 868), ('in', 834), ('i', 826), ('is', 815), ('u', 803), ('me', 749), ('for', 656), ('my', 638), ('of', 598), ('it', 564), ('your', 562), ('on', 504), ('have', 481), ('that', 468), ('now', 404)]\n",
      "20 top spam words: [('to', 611), ('a', 360), ('call', 188), ('you', 187), ('your', 187), ('or', 185), ('the', 178), ('for', 170), ('is', 149), ('on', 139), ('Call', 138), ('now', 138), ('have', 128), ('and', 119), ('FREE', 116), ('from', 116), ('ur', 107), ('with', 102), ('www', 96), ('mobile', 95)]\n",
      "20 top ham words: [('you', 1645), ('to', 1548), ('I', 1490), ('the', 1033), ('a', 982), ('i', 819), ('in', 766), ('and', 749), ('u', 735), ('me', 720), ('is', 666), ('my', 628), ('it', 540), ('of', 505), ('for', 486), ('that', 445), ('your', 375), ('on', 365), ('not', 355), ('have', 353)]\n"
     ]
    }
   ],
   "source": [
    "# Словарь хранится в словаре, где ключом является само слово, а значением по ключу -\n",
    "# количество вхождений слова\n",
    "dictionary = {'spam': dict(),\n",
    "              'ham': dict(),\n",
    "              'total': dict()}\n",
    "\n",
    "for _, subdir in enumerate(subdirs):\n",
    "    subdir_path = os.path.join(BASE_DATA_DIR, subdir)\n",
    "    files = os.listdir(subdir_path)\n",
    "\n",
    "    for _, file in enumerate(files):\n",
    "        file_path = os.path.join(subdir_path, file)# errors='ignore'\n",
    "        with open(file_path, 'r',errors='ignore' ) as f:\n",
    "            # Считываем строку и выделяем из неё слова: регфильтр настроен на то, чтобы считать словом\n",
    "            # последовательность букв, в которой может содеражаться апостроф или дефис, но не могут цифры\n",
    "            words = re.findall(r\"\\b[A-Za-z-']+\\b\", f.readline())\n",
    "            for word in words:\n",
    "                # Проверяем, пуст ли словарь, если да - инициализируем пару (слово(ключ), 1).\n",
    "                # Проверка нужна, так как попытка получить ключи у пустого словаря вызовет ошибку\n",
    "                if not bool(dictionary[subdir]):\n",
    "                    dictionary[subdir][word] = 1\n",
    "\n",
    "                elif word in dictionary[subdir].keys():\n",
    "                    dictionary[subdir][word] += 1\n",
    "                else:\n",
    "                    dictionary[subdir][word] = 1\n",
    "\n",
    "# Объединяем два словаря в словарь 'total'\n",
    "dictionary['total'] = {**dictionary['spam'], **dictionary['ham']}\n",
    "for key, value in dictionary['total'].items():\n",
    "    if key in dictionary['spam'] and key in dictionary['ham']:\n",
    "        dictionary['total'][key] = value + dictionary['spam'][key]\n",
    "\n",
    "# Отсортируем по второму значению в паре словаря, то есть по количеству вхождений\n",
    "sorted_total = sorted(dictionary['total'].items(), key=lambda x: x[1], reverse=True)\n",
    "sorted_spam = sorted(dictionary['spam'].items(), key=lambda x: x[1], reverse=True)\n",
    "sorted_ham = sorted(dictionary['ham'].items(), key=lambda x: x[1], reverse=True)\n",
    "\n",
    "# Вывод информации со срезом [:20], то есть топ-20\n",
    "print(f'20 top total words: {sorted_total[:20]}')\n",
    "print(f'20 top spam words: {sorted_spam[:20]}')\n",
    "print(f'20 top ham words: {sorted_ham[:20]}')"
   ]
  },
  {
   "cell_type": "markdown",
   "metadata": {},
   "source": [
    "**Ответ**:\n",
    "\n",
    "20 top total words:\n",
    "\n",
    "    [('to', 2159), ('you', 1832), ('I', 1533), ('a', 1342), ('the', 1211), ('and', 868), ('in', 834), ('i', 826), ('is', 815), ('u', 803), ('me', 749), ('for', 656), ('my', 638), ('of', 598), ('it', 564), ('your', 562), ('on', 504), ('have', 481), ('that', 468), ('now', 404)]\n",
    "\n",
    "20 top spam words:\n",
    "\n",
    "    [('to', 611), ('a', 360), ('call', 188), ('you', 187), ('your', 187), ('or', 185), ('the', 178), ('for', 170), ('is', 149), ('on', 139), ('Call', 138), ('now', 138), ('have', 128), ('and', 119), ('FREE', 116), ('from', 116), ('ur', 107), ('with', 102), ('www', 96), ('mobile', 95)]\n",
    "\n",
    "20 top ham words:\n",
    "\n",
    "    [('you', 1645), ('to', 1548), ('I', 1490), ('the', 1033), ('a', 982), ('i', 819), ('in', 766), ('and', 749), ('u', 735), ('me', 720), ('is', 666), ('my', 628), ('it', 540), ('of', 505), ('for', 486), ('that', 445), ('your', 375), ('on', 365), ('not', 355), ('have', 353)]\n"
   ]
  },
  {
   "cell_type": "markdown",
   "metadata": {},
   "source": [
    "4. Определите для каждой из категорий, сколько сообщений содержат хотя бы одно из 20 популярных слов для этой же\n",
    "и другой категории."
   ]
  },
  {
   "cell_type": "code",
   "execution_count": 14,
   "metadata": {
    "pycharm": {
     "name": "#%%\n"
    }
   },
   "outputs": [
    {
     "name": "stdout",
     "output_type": "stream",
     "text": [
      "Amount of spam message that:\n",
      "\tcontain top-20 spam: 730\n",
      "\tcontain top-20 ham: 698\n",
      "Amount of ham message that:\n",
      "\tcontain top-20 spam: 3501\n",
      "\tcontain top-20 ham: 4087\n",
      "\n"
     ]
    }
   ],
   "source": [
    "# Словарь для хранения числа файлов, содержащих топ-20:\n",
    "#       первый элемент в списке - слова из топ-20 спама,\n",
    "#       второй - слова из топ-20 обычных.\n",
    "count_of_top_20 = {\n",
    "    'spam': [0, 0],\n",
    "    'ham': [0, 0]\n",
    "}\n",
    "\n",
    "for _, subdir in enumerate(subdirs):\n",
    "    subdir_path = os.path.join(BASE_DATA_DIR, subdir)\n",
    "    files = os.listdir(subdir_path)\n",
    "\n",
    "    for _, file in enumerate(files):\n",
    "        # Флаги, которые принимают значение тру, если файл содержит необходимое слово\n",
    "        # в соответсвующем словаре\n",
    "        contain_spam = False\n",
    "        contain_ham = False\n",
    "\n",
    "        file_path = os.path.join(subdir_path, file)\n",
    "        with open(file_path, 'r', errors='ignore') as f:\n",
    "            words = re.findall(r\"\\b[A-Za-z-']+\\b\", f.readline())\n",
    "\n",
    "            for word in words:\n",
    "                if word in dict(sorted_spam[:20]).keys():\n",
    "                    contain_spam = True\n",
    "                if word in dict(sorted_ham[:20]).keys():\n",
    "                    contain_ham = True\n",
    "\n",
    "        # Конвертируем флаги в int(), то есть True -> 1, False -> 0,\n",
    "        # и обновляем соответствующее значение списка по соответсвующему ключу\n",
    "        count_of_top_20[subdir][0] += int(contain_spam)\n",
    "        count_of_top_20[subdir][1] += int(contain_ham)\n",
    "\n",
    "# Вывод информации\n",
    "print(f\"Amount of spam message that:\\n\\tcontain top-20 spam: {count_of_top_20['spam'][0]}\\n\"\n",
    "      f\"\\tcontain top-20 ham: {count_of_top_20['spam'][1]}\\n\"\n",
    "      f\"Amount of ham message that:\\n\\tcontain top-20 spam: {count_of_top_20['ham'][0]}\\n\"\n",
    "      f\"\\tcontain top-20 ham: {count_of_top_20['ham'][1]}\\n\")"
   ]
  },
  {
   "cell_type": "markdown",
   "metadata": {},
   "source": [
    "**Ответ**:\n",
    "\n",
    "Amount of *spam* message that:\n",
    "\n",
    "\tcontain top-20 spam: 730\n",
    "\tcontain top-20 ham: 698\n",
    "Amount of *ham* message that:\n",
    "\n",
    "\tcontain top-20 spam: 3501\n",
    "\tcontain top-20 ham: 4087"
   ]
  },
  {
   "cell_type": "markdown",
   "metadata": {},
   "source": [
    "5. Определите для каждой из категорий, сколько сообщений содержат хотя бы одно из 10 популярных слов для этой же и другой категории.\n"
   ]
  },
  {
   "cell_type": "code",
   "execution_count": 15,
   "metadata": {
    "pycharm": {
     "name": "#%%\n"
    }
   },
   "outputs": [
    {
     "name": "stdout",
     "output_type": "stream",
     "text": [
      "Amount of spam message that:\n",
      "\tcontain top-10 spam: 705\n",
      "\tcontain top-10 ham: 632\n",
      "Amount of ham message that:\n",
      "\tcontain top-10 spam: 3190\n",
      "\tcontain top-10 ham: 3720\n",
      "\n"
     ]
    }
   ],
   "source": [
    "# Аналогично предыдущему, только срез в топе делаем по 10-ти топ словам\n",
    "\n",
    "count_of_top_10 = {\n",
    "    'spam': [0, 0],\n",
    "    'ham': [0, 0]\n",
    "}\n",
    "\n",
    "for _, subdir in enumerate(subdirs):\n",
    "    subdir_path = os.path.join(BASE_DATA_DIR, subdir)\n",
    "    files = os.listdir(subdir_path)\n",
    "\n",
    "    for _, file in enumerate(files):\n",
    "        contain_spam = False\n",
    "        contain_ham = False\n",
    "        file_path = os.path.join(subdir_path, file)\n",
    "        with open(file_path, 'r', errors='ignore') as f:\n",
    "            words = re.findall(r\"\\b[A-Za-z-']+\\b\", f.readline())\n",
    "            for word in words:\n",
    "                if word in dict(sorted_spam[:10]).keys():\n",
    "                    contain_spam = True\n",
    "                if word in dict(sorted_ham[:10]).keys():\n",
    "                    contain_ham = True\n",
    "        count_of_top_10[subdir][0] += int(contain_spam)\n",
    "        count_of_top_10[subdir][1] += int(contain_ham)\n",
    "\n",
    "print(f\"Amount of spam message that:\\n\\tcontain top-10 spam: {count_of_top_10['spam'][0]}\\n\"\n",
    "      f\"\\tcontain top-10 ham: {count_of_top_10['spam'][1]}\\n\"\n",
    "      f\"Amount of ham message that:\\n\\tcontain top-10 spam: {count_of_top_10['ham'][0]}\\n\"\n",
    "      f\"\\tcontain top-10 ham: {count_of_top_10['ham'][1]}\\n\")\n"
   ]
  },
  {
   "cell_type": "markdown",
   "metadata": {
    "pycharm": {
     "name": "#%% md\n"
    }
   },
   "source": [
    "**Ответ**:\n",
    "\n",
    "Amount of spam message that:\n",
    "\n",
    "\tcontain top-10 spam: 705\n",
    "\tcontain top-10 ham: 632\n",
    "Amount of ham message that:\n",
    "\n",
    "\tcontain top-10 spam: 3190\n",
    "\tcontain top-10 ham: 3720\n",
    "\n"
   ]
  },
  {
   "cell_type": "markdown",
   "metadata": {},
   "source": [
    "6. Найдите 20 самых длинных слов по всем сообщениям."
   ]
  },
  {
   "cell_type": "code",
   "execution_count": 16,
   "metadata": {
    "pycharm": {
     "name": "#%%\n"
    }
   },
   "outputs": [
    {
     "name": "stdout",
     "output_type": "stream",
     "text": [
      "Top-10 the longest words: ['hypotheticalhuagauahahuagahyuhagga', 'AccommodationVouchers', 'PRESCHOOLCO-ORDINATOR', 'MonthlySubscription', 'XXXMobileMovieClub', 'xxxmobilemovieclub', 'miiiiiiissssssssss', 'friend-of-a-friend', 'HAUGHAIGHGTUJHYGUJ', 'DeliveredTomorrow']\n"
     ]
    }
   ],
   "source": [
    "# Просто в общем словаре делаем сортировку по длине ключа, то есть слова\n",
    "sorted_by_length = sorted(dictionary['total'].items(), key=lambda x: len(x[0]), reverse=True)\n",
    "\n",
    "# Вывод первого элемента из пары значений, то есть только слова\n",
    "print(f\"Top-10 the longest words: {[value[0] for value in sorted_by_length[:10]]}\")"
   ]
  },
  {
   "cell_type": "markdown",
   "metadata": {},
   "source": [
    "**Ответ**:\n",
    "\n",
    "Top-10 the longest words:\n",
    "\n",
    "    ['hypotheticalhuagauahahuagahyuhagga', 'AccommodationVouchers', 'PRESCHOOLCO-ORDINATOR', 'MonthlySubscription', 'XXXMobileMovieClub', 'xxxmobilemovieclub', 'miiiiiiissssssssss', 'friend-of-a-friend', 'HAUGHAIGHGTUJHYGUJ', 'DeliveredTomorrow']\n"
   ]
  }
 ],
 "metadata": {
  "kernelspec": {
   "display_name": "Python 3",
   "language": "python",
   "name": "python3"
  },
  "language_info": {
   "codemirror_mode": {
    "name": "ipython",
    "version": 3
   },
   "file_extension": ".py",
   "mimetype": "text/x-python",
   "name": "python",
   "nbconvert_exporter": "python",
   "pygments_lexer": "ipython3",
   "version": "3.8.5"
  }
 },
 "nbformat": 4,
 "nbformat_minor": 1
}
