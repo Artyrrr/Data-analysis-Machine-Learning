{
 "cells": [
  {
   "cell_type": "code",
   "execution_count": 33,
   "metadata": {
    "collapsed": true
   },
   "outputs": [],
   "source": [
    "import numpy as np\n",
    "import pandas as pd\n",
    "import matplotlib.pyplot as plt\n",
    "import seaborn as sns\n",
    "\n",
    "plt.style.use({'figure.facecolor':'white'})"
   ]
  },
  {
   "cell_type": "code",
   "execution_count": 34,
   "metadata": {
    "pycharm": {
     "name": "#%%\n"
    }
   },
   "outputs": [
    {
     "data": {
      "text/html": [
       "<div>\n",
       "<style scoped>\n",
       "    .dataframe tbody tr th:only-of-type {\n",
       "        vertical-align: middle;\n",
       "    }\n",
       "\n",
       "    .dataframe tbody tr th {\n",
       "        vertical-align: top;\n",
       "    }\n",
       "\n",
       "    .dataframe thead th {\n",
       "        text-align: right;\n",
       "    }\n",
       "</style>\n",
       "<table border=\"1\" class=\"dataframe\">\n",
       "  <thead>\n",
       "    <tr style=\"text-align: right;\">\n",
       "      <th></th>\n",
       "      <th>Date</th>\n",
       "      <th>Location</th>\n",
       "      <th>MinTemp</th>\n",
       "      <th>MaxTemp</th>\n",
       "      <th>Rainfall</th>\n",
       "      <th>Evaporation</th>\n",
       "      <th>Sunshine</th>\n",
       "      <th>WindGustDir</th>\n",
       "      <th>WindGustSpeed</th>\n",
       "      <th>WindDir9am</th>\n",
       "      <th>...</th>\n",
       "      <th>Humidity3pm</th>\n",
       "      <th>Pressure9am</th>\n",
       "      <th>Pressure3pm</th>\n",
       "      <th>Cloud9am</th>\n",
       "      <th>Cloud3pm</th>\n",
       "      <th>Temp9am</th>\n",
       "      <th>Temp3pm</th>\n",
       "      <th>RainToday</th>\n",
       "      <th>RISK_MM</th>\n",
       "      <th>RainTomorrow</th>\n",
       "    </tr>\n",
       "  </thead>\n",
       "  <tbody>\n",
       "    <tr>\n",
       "      <th>0</th>\n",
       "      <td>2008-12-01</td>\n",
       "      <td>Albury</td>\n",
       "      <td>13.4</td>\n",
       "      <td>22.9</td>\n",
       "      <td>0.6</td>\n",
       "      <td>NaN</td>\n",
       "      <td>NaN</td>\n",
       "      <td>W</td>\n",
       "      <td>44.0</td>\n",
       "      <td>W</td>\n",
       "      <td>...</td>\n",
       "      <td>22.0</td>\n",
       "      <td>1007.7</td>\n",
       "      <td>1007.1</td>\n",
       "      <td>8.0</td>\n",
       "      <td>NaN</td>\n",
       "      <td>16.9</td>\n",
       "      <td>21.8</td>\n",
       "      <td>No</td>\n",
       "      <td>0.0</td>\n",
       "      <td>No</td>\n",
       "    </tr>\n",
       "    <tr>\n",
       "      <th>1</th>\n",
       "      <td>2008-12-02</td>\n",
       "      <td>Albury</td>\n",
       "      <td>7.4</td>\n",
       "      <td>25.1</td>\n",
       "      <td>0.0</td>\n",
       "      <td>NaN</td>\n",
       "      <td>NaN</td>\n",
       "      <td>WNW</td>\n",
       "      <td>44.0</td>\n",
       "      <td>NNW</td>\n",
       "      <td>...</td>\n",
       "      <td>25.0</td>\n",
       "      <td>1010.6</td>\n",
       "      <td>1007.8</td>\n",
       "      <td>NaN</td>\n",
       "      <td>NaN</td>\n",
       "      <td>17.2</td>\n",
       "      <td>24.3</td>\n",
       "      <td>No</td>\n",
       "      <td>0.0</td>\n",
       "      <td>No</td>\n",
       "    </tr>\n",
       "    <tr>\n",
       "      <th>2</th>\n",
       "      <td>2008-12-03</td>\n",
       "      <td>Albury</td>\n",
       "      <td>12.9</td>\n",
       "      <td>25.7</td>\n",
       "      <td>0.0</td>\n",
       "      <td>NaN</td>\n",
       "      <td>NaN</td>\n",
       "      <td>WSW</td>\n",
       "      <td>46.0</td>\n",
       "      <td>W</td>\n",
       "      <td>...</td>\n",
       "      <td>30.0</td>\n",
       "      <td>1007.6</td>\n",
       "      <td>1008.7</td>\n",
       "      <td>NaN</td>\n",
       "      <td>2.0</td>\n",
       "      <td>21.0</td>\n",
       "      <td>23.2</td>\n",
       "      <td>No</td>\n",
       "      <td>0.0</td>\n",
       "      <td>No</td>\n",
       "    </tr>\n",
       "    <tr>\n",
       "      <th>3</th>\n",
       "      <td>2008-12-04</td>\n",
       "      <td>Albury</td>\n",
       "      <td>9.2</td>\n",
       "      <td>28.0</td>\n",
       "      <td>0.0</td>\n",
       "      <td>NaN</td>\n",
       "      <td>NaN</td>\n",
       "      <td>NE</td>\n",
       "      <td>24.0</td>\n",
       "      <td>SE</td>\n",
       "      <td>...</td>\n",
       "      <td>16.0</td>\n",
       "      <td>1017.6</td>\n",
       "      <td>1012.8</td>\n",
       "      <td>NaN</td>\n",
       "      <td>NaN</td>\n",
       "      <td>18.1</td>\n",
       "      <td>26.5</td>\n",
       "      <td>No</td>\n",
       "      <td>1.0</td>\n",
       "      <td>No</td>\n",
       "    </tr>\n",
       "    <tr>\n",
       "      <th>4</th>\n",
       "      <td>2008-12-05</td>\n",
       "      <td>Albury</td>\n",
       "      <td>17.5</td>\n",
       "      <td>32.3</td>\n",
       "      <td>1.0</td>\n",
       "      <td>NaN</td>\n",
       "      <td>NaN</td>\n",
       "      <td>W</td>\n",
       "      <td>41.0</td>\n",
       "      <td>ENE</td>\n",
       "      <td>...</td>\n",
       "      <td>33.0</td>\n",
       "      <td>1010.8</td>\n",
       "      <td>1006.0</td>\n",
       "      <td>7.0</td>\n",
       "      <td>8.0</td>\n",
       "      <td>17.8</td>\n",
       "      <td>29.7</td>\n",
       "      <td>No</td>\n",
       "      <td>0.2</td>\n",
       "      <td>No</td>\n",
       "    </tr>\n",
       "  </tbody>\n",
       "</table>\n",
       "<p>5 rows × 24 columns</p>\n",
       "</div>"
      ],
      "text/plain": [
       "         Date Location  MinTemp  MaxTemp  Rainfall  Evaporation  Sunshine  \\\n",
       "0  2008-12-01   Albury     13.4     22.9       0.6          NaN       NaN   \n",
       "1  2008-12-02   Albury      7.4     25.1       0.0          NaN       NaN   \n",
       "2  2008-12-03   Albury     12.9     25.7       0.0          NaN       NaN   \n",
       "3  2008-12-04   Albury      9.2     28.0       0.0          NaN       NaN   \n",
       "4  2008-12-05   Albury     17.5     32.3       1.0          NaN       NaN   \n",
       "\n",
       "  WindGustDir  WindGustSpeed WindDir9am  ... Humidity3pm  Pressure9am  \\\n",
       "0           W           44.0          W  ...        22.0       1007.7   \n",
       "1         WNW           44.0        NNW  ...        25.0       1010.6   \n",
       "2         WSW           46.0          W  ...        30.0       1007.6   \n",
       "3          NE           24.0         SE  ...        16.0       1017.6   \n",
       "4           W           41.0        ENE  ...        33.0       1010.8   \n",
       "\n",
       "   Pressure3pm  Cloud9am  Cloud3pm  Temp9am  Temp3pm  RainToday  RISK_MM  \\\n",
       "0       1007.1       8.0       NaN     16.9     21.8         No      0.0   \n",
       "1       1007.8       NaN       NaN     17.2     24.3         No      0.0   \n",
       "2       1008.7       NaN       2.0     21.0     23.2         No      0.0   \n",
       "3       1012.8       NaN       NaN     18.1     26.5         No      1.0   \n",
       "4       1006.0       7.0       8.0     17.8     29.7         No      0.2   \n",
       "\n",
       "   RainTomorrow  \n",
       "0            No  \n",
       "1            No  \n",
       "2            No  \n",
       "3            No  \n",
       "4            No  \n",
       "\n",
       "[5 rows x 24 columns]"
      ]
     },
     "execution_count": 34,
     "metadata": {},
     "output_type": "execute_result"
    }
   ],
   "source": [
    "weather_data = pd.read_csv('weatherAUS.csv')\n",
    "weather_data.head()"
   ]
  },
  {
   "cell_type": "markdown",
   "metadata": {
    "pycharm": {
     "name": "#%% md\n"
    }
   },
   "source": [
    "Название переменной - Тип данных - Описание\n",
    "\n",
    "*Date* - дата(год:месяц:день) - дата наблюдения,\n",
    "\n",
    "*Location* - строка - название месторасположения метеостанции,\n",
    "\n",
    "*MinTemp* - вещественный - минимальная температура в градусах цельсия,\n",
    "\n",
    "*MaxTemp* - вещественный - максимальная температура в градусах цельсия,\n",
    "\n",
    "*Rainfall* - вещественный - количество осадков, зафиксированных за день в мм,\n",
    "\n",
    "*Evaporation* - вещественный - количество испарений (мм) в эвапорометре за 24 часа до 9 утра,\n",
    "\n",
    "*Sunshine* - целочисленный - количество солнечных часов за день,\n",
    "\n",
    "*WindGustDir* - категориальный - направление сильнейшего порыва ветра за 24 часа до полуночи,\n",
    "\n",
    "*WindGustSpeed* - вещественный - скорость самого сильного ветра (км/ч) за 24 часа до полуночи,\n",
    "\n",
    "*WindDir9am* - категориальный - направление ветра в 09:00,\n",
    "\n",
    "*WindDir3pm* - категориальный - направление ветра в 15:00,\n",
    "\n",
    "*WindSpeed9am* - вещественный - средняяя скорость ветра за 10 минут до 09:00,\n",
    "\n",
    "*WindSpeed3pm* - вещественный - средняяя скорость ветра за 10 минут до 15:00,\n",
    "\n",
    "*Humidity9am* - вещественный - влажность (в процентах) в 09:00,\n",
    "\n",
    "*Humidity3pm* - вещественный - влажность (в процентах) в 15:00,\n",
    "\n",
    "*Pressure9am* - вещественный - атмосферное давление (гПа) над уровнем моря в 09:00,\n",
    "\n",
    "*Pressure3pm* - вещественный - атмосферное давление (гПа) над уровнем моря в 15:00,\n",
    "\n",
    "*Cloud9am* - целочисленный - сколько окт (восьмых частей неба) закрыты облаками в 09:00,\n",
    "\n",
    "*Cloud3pm* - целочисленный - сколько окт (восьмых частей неба) закрыты облаками в 15:00,\n",
    "\n",
    "*Temp9am* - вещественный - температура (градусы Цельсия) в 09:00,\n",
    "\n",
    "*Temp3pm* - вещественный - температура (градусы Цельсия) в 15:00,\n",
    "\n",
    "*RainToday* - категориальный - логическое значение: 1, если количество осадков (мм)\n",
    "              за 24 часа до 9 утра превышает 1 мм, в противном случае - 0,\n",
    "\n",
    "*RISK_MM* - вещественный - количество осадков на следующий день в мм, используется для создания таргетной переменной  *RainTomorrow*,\n",
    "            своеобразная мера «риска»,\n",
    "\n",
    "*RainTomorrow* - категориальный - логическое значение, будет ли завтра дождь,\n"
   ]
  },
  {
   "cell_type": "markdown",
   "metadata": {},
   "source": [
    "Посмотрим информацию про заполненность таблицы и типы данных"
   ]
  },
  {
   "cell_type": "code",
   "execution_count": 35,
   "metadata": {
    "pycharm": {
     "name": "#%%\n"
    }
   },
   "outputs": [
    {
     "name": "stdout",
     "output_type": "stream",
     "text": [
      "<class 'pandas.core.frame.DataFrame'>\n",
      "RangeIndex: 142193 entries, 0 to 142192\n",
      "Data columns (total 24 columns):\n",
      " #   Column         Non-Null Count   Dtype  \n",
      "---  ------         --------------   -----  \n",
      " 0   Date           142193 non-null  object \n",
      " 1   Location       142193 non-null  object \n",
      " 2   MinTemp        141556 non-null  float64\n",
      " 3   MaxTemp        141871 non-null  float64\n",
      " 4   Rainfall       140787 non-null  float64\n",
      " 5   Evaporation    81350 non-null   float64\n",
      " 6   Sunshine       74377 non-null   float64\n",
      " 7   WindGustDir    132863 non-null  object \n",
      " 8   WindGustSpeed  132923 non-null  float64\n",
      " 9   WindDir9am     132180 non-null  object \n",
      " 10  WindDir3pm     138415 non-null  object \n",
      " 11  WindSpeed9am   140845 non-null  float64\n",
      " 12  WindSpeed3pm   139563 non-null  float64\n",
      " 13  Humidity9am    140419 non-null  float64\n",
      " 14  Humidity3pm    138583 non-null  float64\n",
      " 15  Pressure9am    128179 non-null  float64\n",
      " 16  Pressure3pm    128212 non-null  float64\n",
      " 17  Cloud9am       88536 non-null   float64\n",
      " 18  Cloud3pm       85099 non-null   float64\n",
      " 19  Temp9am        141289 non-null  float64\n",
      " 20  Temp3pm        139467 non-null  float64\n",
      " 21  RainToday      140787 non-null  object \n",
      " 22  RISK_MM        142193 non-null  float64\n",
      " 23  RainTomorrow   142193 non-null  object \n",
      "dtypes: float64(17), object(7)\n",
      "memory usage: 26.0+ MB\n"
     ]
    }
   ],
   "source": [
    "weather_data.info()"
   ]
  },
  {
   "cell_type": "markdown",
   "metadata": {},
   "source": [
    "Посмотрим основные статистики признаков:"
   ]
  },
  {
   "cell_type": "code",
   "execution_count": 36,
   "metadata": {
    "pycharm": {
     "name": "#%%\n"
    }
   },
   "outputs": [
    {
     "data": {
      "text/html": [
       "<div>\n",
       "<style scoped>\n",
       "    .dataframe tbody tr th:only-of-type {\n",
       "        vertical-align: middle;\n",
       "    }\n",
       "\n",
       "    .dataframe tbody tr th {\n",
       "        vertical-align: top;\n",
       "    }\n",
       "\n",
       "    .dataframe thead th {\n",
       "        text-align: right;\n",
       "    }\n",
       "</style>\n",
       "<table border=\"1\" class=\"dataframe\">\n",
       "  <thead>\n",
       "    <tr style=\"text-align: right;\">\n",
       "      <th></th>\n",
       "      <th>MinTemp</th>\n",
       "      <th>MaxTemp</th>\n",
       "      <th>Rainfall</th>\n",
       "      <th>Evaporation</th>\n",
       "      <th>Sunshine</th>\n",
       "      <th>WindGustSpeed</th>\n",
       "      <th>WindSpeed9am</th>\n",
       "      <th>WindSpeed3pm</th>\n",
       "      <th>Humidity9am</th>\n",
       "      <th>Humidity3pm</th>\n",
       "      <th>Pressure9am</th>\n",
       "      <th>Pressure3pm</th>\n",
       "      <th>Cloud9am</th>\n",
       "      <th>Cloud3pm</th>\n",
       "      <th>Temp9am</th>\n",
       "      <th>Temp3pm</th>\n",
       "      <th>RISK_MM</th>\n",
       "    </tr>\n",
       "  </thead>\n",
       "  <tbody>\n",
       "    <tr>\n",
       "      <th>count</th>\n",
       "      <td>141556.000000</td>\n",
       "      <td>141871.000000</td>\n",
       "      <td>140787.000000</td>\n",
       "      <td>81350.000000</td>\n",
       "      <td>74377.000000</td>\n",
       "      <td>132923.000000</td>\n",
       "      <td>140845.000000</td>\n",
       "      <td>139563.000000</td>\n",
       "      <td>140419.000000</td>\n",
       "      <td>138583.000000</td>\n",
       "      <td>128179.000000</td>\n",
       "      <td>128212.000000</td>\n",
       "      <td>88536.000000</td>\n",
       "      <td>85099.000000</td>\n",
       "      <td>141289.000000</td>\n",
       "      <td>139467.000000</td>\n",
       "      <td>142193.000000</td>\n",
       "    </tr>\n",
       "    <tr>\n",
       "      <th>mean</th>\n",
       "      <td>12.186400</td>\n",
       "      <td>23.226784</td>\n",
       "      <td>2.349974</td>\n",
       "      <td>5.469824</td>\n",
       "      <td>7.624853</td>\n",
       "      <td>39.984292</td>\n",
       "      <td>14.001988</td>\n",
       "      <td>18.637576</td>\n",
       "      <td>68.843810</td>\n",
       "      <td>51.482606</td>\n",
       "      <td>1017.653758</td>\n",
       "      <td>1015.258204</td>\n",
       "      <td>4.437189</td>\n",
       "      <td>4.503167</td>\n",
       "      <td>16.987509</td>\n",
       "      <td>21.687235</td>\n",
       "      <td>2.360682</td>\n",
       "    </tr>\n",
       "    <tr>\n",
       "      <th>std</th>\n",
       "      <td>6.403283</td>\n",
       "      <td>7.117618</td>\n",
       "      <td>8.465173</td>\n",
       "      <td>4.188537</td>\n",
       "      <td>3.781525</td>\n",
       "      <td>13.588801</td>\n",
       "      <td>8.893337</td>\n",
       "      <td>8.803345</td>\n",
       "      <td>19.051293</td>\n",
       "      <td>20.797772</td>\n",
       "      <td>7.105476</td>\n",
       "      <td>7.036677</td>\n",
       "      <td>2.887016</td>\n",
       "      <td>2.720633</td>\n",
       "      <td>6.492838</td>\n",
       "      <td>6.937594</td>\n",
       "      <td>8.477969</td>\n",
       "    </tr>\n",
       "    <tr>\n",
       "      <th>min</th>\n",
       "      <td>-8.500000</td>\n",
       "      <td>-4.800000</td>\n",
       "      <td>0.000000</td>\n",
       "      <td>0.000000</td>\n",
       "      <td>0.000000</td>\n",
       "      <td>6.000000</td>\n",
       "      <td>0.000000</td>\n",
       "      <td>0.000000</td>\n",
       "      <td>0.000000</td>\n",
       "      <td>0.000000</td>\n",
       "      <td>980.500000</td>\n",
       "      <td>977.100000</td>\n",
       "      <td>0.000000</td>\n",
       "      <td>0.000000</td>\n",
       "      <td>-7.200000</td>\n",
       "      <td>-5.400000</td>\n",
       "      <td>0.000000</td>\n",
       "    </tr>\n",
       "    <tr>\n",
       "      <th>25%</th>\n",
       "      <td>7.600000</td>\n",
       "      <td>17.900000</td>\n",
       "      <td>0.000000</td>\n",
       "      <td>2.600000</td>\n",
       "      <td>4.900000</td>\n",
       "      <td>31.000000</td>\n",
       "      <td>7.000000</td>\n",
       "      <td>13.000000</td>\n",
       "      <td>57.000000</td>\n",
       "      <td>37.000000</td>\n",
       "      <td>1012.900000</td>\n",
       "      <td>1010.400000</td>\n",
       "      <td>1.000000</td>\n",
       "      <td>2.000000</td>\n",
       "      <td>12.300000</td>\n",
       "      <td>16.600000</td>\n",
       "      <td>0.000000</td>\n",
       "    </tr>\n",
       "    <tr>\n",
       "      <th>50%</th>\n",
       "      <td>12.000000</td>\n",
       "      <td>22.600000</td>\n",
       "      <td>0.000000</td>\n",
       "      <td>4.800000</td>\n",
       "      <td>8.500000</td>\n",
       "      <td>39.000000</td>\n",
       "      <td>13.000000</td>\n",
       "      <td>19.000000</td>\n",
       "      <td>70.000000</td>\n",
       "      <td>52.000000</td>\n",
       "      <td>1017.600000</td>\n",
       "      <td>1015.200000</td>\n",
       "      <td>5.000000</td>\n",
       "      <td>5.000000</td>\n",
       "      <td>16.700000</td>\n",
       "      <td>21.100000</td>\n",
       "      <td>0.000000</td>\n",
       "    </tr>\n",
       "    <tr>\n",
       "      <th>75%</th>\n",
       "      <td>16.800000</td>\n",
       "      <td>28.200000</td>\n",
       "      <td>0.800000</td>\n",
       "      <td>7.400000</td>\n",
       "      <td>10.600000</td>\n",
       "      <td>48.000000</td>\n",
       "      <td>19.000000</td>\n",
       "      <td>24.000000</td>\n",
       "      <td>83.000000</td>\n",
       "      <td>66.000000</td>\n",
       "      <td>1022.400000</td>\n",
       "      <td>1020.000000</td>\n",
       "      <td>7.000000</td>\n",
       "      <td>7.000000</td>\n",
       "      <td>21.600000</td>\n",
       "      <td>26.400000</td>\n",
       "      <td>0.800000</td>\n",
       "    </tr>\n",
       "    <tr>\n",
       "      <th>max</th>\n",
       "      <td>33.900000</td>\n",
       "      <td>48.100000</td>\n",
       "      <td>371.000000</td>\n",
       "      <td>145.000000</td>\n",
       "      <td>14.500000</td>\n",
       "      <td>135.000000</td>\n",
       "      <td>130.000000</td>\n",
       "      <td>87.000000</td>\n",
       "      <td>100.000000</td>\n",
       "      <td>100.000000</td>\n",
       "      <td>1041.000000</td>\n",
       "      <td>1039.600000</td>\n",
       "      <td>9.000000</td>\n",
       "      <td>9.000000</td>\n",
       "      <td>40.200000</td>\n",
       "      <td>46.700000</td>\n",
       "      <td>371.000000</td>\n",
       "    </tr>\n",
       "  </tbody>\n",
       "</table>\n",
       "</div>"
      ],
      "text/plain": [
       "             MinTemp        MaxTemp       Rainfall   Evaporation  \\\n",
       "count  141556.000000  141871.000000  140787.000000  81350.000000   \n",
       "mean       12.186400      23.226784       2.349974      5.469824   \n",
       "std         6.403283       7.117618       8.465173      4.188537   \n",
       "min        -8.500000      -4.800000       0.000000      0.000000   \n",
       "25%         7.600000      17.900000       0.000000      2.600000   \n",
       "50%        12.000000      22.600000       0.000000      4.800000   \n",
       "75%        16.800000      28.200000       0.800000      7.400000   \n",
       "max        33.900000      48.100000     371.000000    145.000000   \n",
       "\n",
       "           Sunshine  WindGustSpeed   WindSpeed9am   WindSpeed3pm  \\\n",
       "count  74377.000000  132923.000000  140845.000000  139563.000000   \n",
       "mean       7.624853      39.984292      14.001988      18.637576   \n",
       "std        3.781525      13.588801       8.893337       8.803345   \n",
       "min        0.000000       6.000000       0.000000       0.000000   \n",
       "25%        4.900000      31.000000       7.000000      13.000000   \n",
       "50%        8.500000      39.000000      13.000000      19.000000   \n",
       "75%       10.600000      48.000000      19.000000      24.000000   \n",
       "max       14.500000     135.000000     130.000000      87.000000   \n",
       "\n",
       "         Humidity9am    Humidity3pm    Pressure9am    Pressure3pm  \\\n",
       "count  140419.000000  138583.000000  128179.000000  128212.000000   \n",
       "mean       68.843810      51.482606    1017.653758    1015.258204   \n",
       "std        19.051293      20.797772       7.105476       7.036677   \n",
       "min         0.000000       0.000000     980.500000     977.100000   \n",
       "25%        57.000000      37.000000    1012.900000    1010.400000   \n",
       "50%        70.000000      52.000000    1017.600000    1015.200000   \n",
       "75%        83.000000      66.000000    1022.400000    1020.000000   \n",
       "max       100.000000     100.000000    1041.000000    1039.600000   \n",
       "\n",
       "           Cloud9am      Cloud3pm        Temp9am        Temp3pm        RISK_MM  \n",
       "count  88536.000000  85099.000000  141289.000000  139467.000000  142193.000000  \n",
       "mean       4.437189      4.503167      16.987509      21.687235       2.360682  \n",
       "std        2.887016      2.720633       6.492838       6.937594       8.477969  \n",
       "min        0.000000      0.000000      -7.200000      -5.400000       0.000000  \n",
       "25%        1.000000      2.000000      12.300000      16.600000       0.000000  \n",
       "50%        5.000000      5.000000      16.700000      21.100000       0.000000  \n",
       "75%        7.000000      7.000000      21.600000      26.400000       0.800000  \n",
       "max        9.000000      9.000000      40.200000      46.700000     371.000000  "
      ]
     },
     "execution_count": 36,
     "metadata": {},
     "output_type": "execute_result"
    }
   ],
   "source": [
    "weather_data.describe()"
   ]
  },
  {
   "cell_type": "markdown",
   "metadata": {},
   "source": [
    "При первом осмотре заметил, что у колонок *Cloud9am*, *Cloud3pm* максимальные значения равняются 9,\n",
    "хотя по описанию этого признака максимальное значение может равняться 8-ми. Отфильтруем эти значения.\n"
   ]
  },
  {
   "cell_type": "code",
   "execution_count": 37,
   "metadata": {
    "pycharm": {
     "name": "#%%\n"
    }
   },
   "outputs": [
    {
     "data": {
      "text/plain": [
       "Date             142190\n",
       "Location         142190\n",
       "MinTemp          141553\n",
       "MaxTemp          141868\n",
       "Rainfall         140784\n",
       "Evaporation       81348\n",
       "Sunshine          74374\n",
       "WindGustDir      132861\n",
       "WindGustSpeed    132921\n",
       "WindDir9am       132177\n",
       "WindDir3pm       138412\n",
       "WindSpeed9am     140842\n",
       "WindSpeed3pm     139560\n",
       "Humidity9am      140416\n",
       "Humidity3pm      138580\n",
       "Pressure9am      128176\n",
       "Pressure3pm      128209\n",
       "Cloud9am          88533\n",
       "Cloud3pm          85097\n",
       "Temp9am          141286\n",
       "Temp3pm          139464\n",
       "RainToday        140784\n",
       "RISK_MM          142190\n",
       "RainTomorrow     142190\n",
       "dtype: int64"
      ]
     },
     "execution_count": 37,
     "metadata": {},
     "output_type": "execute_result"
    }
   ],
   "source": [
    "weather_data[~((weather_data.Cloud3pm > 8)|\n",
    "             (weather_data.Cloud9am > 8))].count()"
   ]
  },
  {
   "cell_type": "markdown",
   "metadata": {},
   "source": [
    "Как видим, таких погодных измерений только 3.\n"
   ]
  },
  {
   "cell_type": "code",
   "execution_count": 38,
   "metadata": {
    "pycharm": {
     "name": "#%%\n"
    }
   },
   "outputs": [],
   "source": [
    "weather_data = weather_data[~((weather_data.Cloud3pm > 8)|\n",
    "                            (weather_data.Cloud9am > 8))].copy()"
   ]
  },
  {
   "cell_type": "markdown",
   "metadata": {},
   "source": [
    "Переведем дату в datetime тип, Pressure9am в float64:"
   ]
  },
  {
   "cell_type": "code",
   "execution_count": 39,
   "metadata": {
    "pycharm": {
     "name": "#%%\n"
    }
   },
   "outputs": [
    {
     "data": {
      "text/plain": [
       "0         1007.7\n",
       "1         1010.6\n",
       "2         1007.6\n",
       "3         1017.6\n",
       "4         1010.8\n",
       "           ...  \n",
       "142188    1024.7\n",
       "142189    1024.6\n",
       "142190    1023.5\n",
       "142191    1021.0\n",
       "142192    1019.4\n",
       "Name: Pressure9am, Length: 142190, dtype: float64"
      ]
     },
     "execution_count": 39,
     "metadata": {},
     "output_type": "execute_result"
    }
   ],
   "source": [
    "weather_data['Date'] = pd.to_datetime(weather_data['Date'])\n",
    "weather_data.Pressure9am.astype('float64')"
   ]
  },
  {
   "cell_type": "markdown",
   "metadata": {},
   "source": [
    "Перед тем, как заполнять пропуски, посмотрим на распределения,\n",
    "чтобы заранее зачистить их от выбросов, которые могут повлиять на среднее при заполнении пропусков."
   ]
  },
  {
   "cell_type": "code",
   "execution_count": 40,
   "metadata": {
    "pycharm": {
     "name": "#%%\n"
    }
   },
   "outputs": [
    {
     "data": {
      "text/plain": [
       "array([[<AxesSubplot:title={'center':'MinTemp'}>,\n",
       "        <AxesSubplot:title={'center':'MaxTemp'}>,\n",
       "        <AxesSubplot:title={'center':'Rainfall'}>,\n",
       "        <AxesSubplot:title={'center':'Evaporation'}>],\n",
       "       [<AxesSubplot:title={'center':'Sunshine'}>,\n",
       "        <AxesSubplot:title={'center':'WindGustSpeed'}>,\n",
       "        <AxesSubplot:title={'center':'WindSpeed9am'}>,\n",
       "        <AxesSubplot:title={'center':'WindSpeed3pm'}>],\n",
       "       [<AxesSubplot:title={'center':'Humidity9am'}>,\n",
       "        <AxesSubplot:title={'center':'Humidity3pm'}>,\n",
       "        <AxesSubplot:title={'center':'Pressure9am'}>,\n",
       "        <AxesSubplot:title={'center':'Pressure3pm'}>],\n",
       "       [<AxesSubplot:title={'center':'Cloud9am'}>,\n",
       "        <AxesSubplot:title={'center':'Cloud3pm'}>,\n",
       "        <AxesSubplot:title={'center':'Temp9am'}>,\n",
       "        <AxesSubplot:title={'center':'Temp3pm'}>],\n",
       "       [<AxesSubplot:title={'center':'RISK_MM'}>, <AxesSubplot:>,\n",
       "        <AxesSubplot:>, <AxesSubplot:>]], dtype=object)"
      ]
     },
     "execution_count": 40,
     "metadata": {},
     "output_type": "execute_result"
    },
    {
     "data": {
      "image/png": "[encoded data removed]",
      "text/plain": [
       "<Figure size 1440x1440 with 20 Axes>"
      ]
     },
     "metadata": {},
     "output_type": "display_data"
    }
   ],
   "source": [
    "weather_data.hist(figsize=(20, 20))"
   ]
  },
  {
   "cell_type": "markdown",
   "metadata": {},
   "source": [
    "Логарифмируем признаки *Rainfall*, *Evaporation*, что делалось при визуальном анализе в ноутбуке visualize.ipnb"
   ]
  },
  {
   "cell_type": "code",
   "execution_count": 41,
   "metadata": {
    "pycharm": {
     "name": "#%%\n"
    }
   },
   "outputs": [],
   "source": [
    "weather_data['Rainfall'] = np.log1p(weather_data['Rainfall'])\n",
    "weather_data['Evaporation'] = np.log1p(weather_data['Evaporation'])"
   ]
  },
  {
   "cell_type": "markdown",
   "metadata": {
    "pycharm": {
     "name": "#%% md\n"
    }
   },
   "source": [
    "Сильные выбросы наблюдаются в *Rainfall*, *Evaporation*, *WindSpeed*. Выбросы в данных\n",
    "признаках могут соответствовать каким-то особенным дням, в которых погодные нормы были сильно нарушены. Поэтому\n",
    "необходимости в наличии данных об аномальных днях нету, их можно убрать. Воспользуемся фильтрацией по \"усам\"\n",
    "графика boxplot. То есть высчитаем для каждой колонки 25 и 75 процентили (Q1, Q3), их разность и зададим диапазон допустимых\n",
    "значений, как  [Q1 - 1.5*(Q3-Q1), Q3 + 1.5*(Q3 - Q1)]."
   ]
  },
  {
   "cell_type": "code",
   "execution_count": 42,
   "metadata": {
    "pycharm": {
     "name": "#%%\n"
    }
   },
   "outputs": [
    {
     "data": {
      "text/plain": [
       "['MinTemp',\n",
       " 'MaxTemp',\n",
       " 'Rainfall',\n",
       " 'Evaporation',\n",
       " 'Sunshine',\n",
       " 'WindGustSpeed',\n",
       " 'WindSpeed9am',\n",
       " 'WindSpeed3pm',\n",
       " 'Humidity9am',\n",
       " 'Humidity3pm',\n",
       " 'Pressure9am',\n",
       " 'Pressure3pm',\n",
       " 'Temp9am',\n",
       " 'Temp3pm']"
      ]
     },
     "execution_count": 42,
     "metadata": {},
     "output_type": "execute_result"
    }
   ],
   "source": [
    "num_columns = weather_data.select_dtypes(include=np.number).columns.tolist()\n",
    "# При расчете не будем учитывать облачность, так как даный тип данных скорее категориальный и\n",
    "# риск, так как данный тип данных в последствии будет удален из таблицы\n",
    "num_columns = [i for i in num_columns if i not in ['Cloud9am', 'Cloud3pm','RISK_MM']]\n",
    "num_columns"
   ]
  },
  {
   "cell_type": "code",
   "execution_count": 43,
   "metadata": {
    "pycharm": {
     "name": "#%%\n"
    }
   },
   "outputs": [],
   "source": [
    "Q1 = weather_data[num_columns].quantile(0.25)\n",
    "Q3 = weather_data[num_columns].quantile(0.75)\n",
    "IQR = Q3 - Q1"
   ]
  },
  {
   "cell_type": "code",
   "execution_count": 44,
   "metadata": {
    "pycharm": {
     "name": "#%%\n"
    }
   },
   "outputs": [],
   "source": [
    "weather_data = weather_data[~((weather_data[num_columns] < (Q1 - 1.5 * IQR)) |\n",
    "                                          (weather_data[num_columns] > (Q3 + 1.5 * IQR))).any(axis=1)].copy()"
   ]
  },
  {
   "cell_type": "code",
   "execution_count": 45,
   "metadata": {
    "pycharm": {
     "name": "#%%\n"
    }
   },
   "outputs": [
    {
     "name": "stdout",
     "output_type": "stream",
     "text": [
      "<class 'pandas.core.frame.DataFrame'>\n",
      "Int64Index: 114957 entries, 0 to 142192\n",
      "Data columns (total 24 columns):\n",
      " #   Column         Non-Null Count   Dtype         \n",
      "---  ------         --------------   -----         \n",
      " 0   Date           114957 non-null  datetime64[ns]\n",
      " 1   Location       114957 non-null  object        \n",
      " 2   MinTemp        114413 non-null  float64       \n",
      " 3   MaxTemp        114686 non-null  float64       \n",
      " 4   Rainfall       113664 non-null  float64       \n",
      " 5   Evaporation    65827 non-null   float64       \n",
      " 6   Sunshine       59874 non-null   float64       \n",
      " 7   WindGustDir    107500 non-null  object        \n",
      " 8   WindGustSpeed  107540 non-null  float64       \n",
      " 9   WindDir9am     106227 non-null  object        \n",
      " 10  WindDir3pm     111882 non-null  object        \n",
      " 11  WindSpeed9am   113821 non-null  float64       \n",
      " 12  WindSpeed3pm   112808 non-null  float64       \n",
      " 13  Humidity9am    113588 non-null  float64       \n",
      " 14  Humidity3pm    112076 non-null  float64       \n",
      " 15  Pressure9am    103574 non-null  float64       \n",
      " 16  Pressure3pm    103605 non-null  float64       \n",
      " 17  Cloud9am       70566 non-null   float64       \n",
      " 18  Cloud3pm       67714 non-null   float64       \n",
      " 19  Temp9am        114276 non-null  float64       \n",
      " 20  Temp3pm        112784 non-null  float64       \n",
      " 21  RainToday      113664 non-null  object        \n",
      " 22  RISK_MM        114957 non-null  float64       \n",
      " 23  RainTomorrow   114957 non-null  object        \n",
      "dtypes: datetime64[ns](1), float64(17), object(6)\n",
      "memory usage: 21.9+ MB\n"
     ]
    }
   ],
   "source": [
    "weather_data.info()"
   ]
  },
  {
   "cell_type": "markdown",
   "metadata": {
    "pycharm": {
     "name": "#%% md\n"
    }
   },
   "source": [
    "Создадим отдельные колонки для дня, месяца и года"
   ]
  },
  {
   "cell_type": "code",
   "execution_count": 46,
   "metadata": {
    "pycharm": {
     "name": "#%%\n"
    }
   },
   "outputs": [
    {
     "data": {
      "text/html": [
       "<div>\n",
       "<style scoped>\n",
       "    .dataframe tbody tr th:only-of-type {\n",
       "        vertical-align: middle;\n",
       "    }\n",
       "\n",
       "    .dataframe tbody tr th {\n",
       "        vertical-align: top;\n",
       "    }\n",
       "\n",
       "    .dataframe thead th {\n",
       "        text-align: right;\n",
       "    }\n",
       "</style>\n",
       "<table border=\"1\" class=\"dataframe\">\n",
       "  <thead>\n",
       "    <tr style=\"text-align: right;\">\n",
       "      <th></th>\n",
       "      <th>Date</th>\n",
       "      <th>Location</th>\n",
       "      <th>MinTemp</th>\n",
       "      <th>MaxTemp</th>\n",
       "      <th>Rainfall</th>\n",
       "      <th>Evaporation</th>\n",
       "      <th>Sunshine</th>\n",
       "      <th>WindGustDir</th>\n",
       "      <th>WindGustSpeed</th>\n",
       "      <th>WindDir9am</th>\n",
       "      <th>...</th>\n",
       "      <th>Cloud9am</th>\n",
       "      <th>Cloud3pm</th>\n",
       "      <th>Temp9am</th>\n",
       "      <th>Temp3pm</th>\n",
       "      <th>RainToday</th>\n",
       "      <th>RISK_MM</th>\n",
       "      <th>RainTomorrow</th>\n",
       "      <th>Day</th>\n",
       "      <th>Month</th>\n",
       "      <th>Year</th>\n",
       "    </tr>\n",
       "  </thead>\n",
       "  <tbody>\n",
       "    <tr>\n",
       "      <th>0</th>\n",
       "      <td>2008-12-01</td>\n",
       "      <td>Albury</td>\n",
       "      <td>13.4</td>\n",
       "      <td>22.9</td>\n",
       "      <td>0.470004</td>\n",
       "      <td>NaN</td>\n",
       "      <td>NaN</td>\n",
       "      <td>W</td>\n",
       "      <td>44.0</td>\n",
       "      <td>W</td>\n",
       "      <td>...</td>\n",
       "      <td>8.0</td>\n",
       "      <td>NaN</td>\n",
       "      <td>16.9</td>\n",
       "      <td>21.8</td>\n",
       "      <td>No</td>\n",
       "      <td>0.0</td>\n",
       "      <td>No</td>\n",
       "      <td>1</td>\n",
       "      <td>12</td>\n",
       "      <td>2008</td>\n",
       "    </tr>\n",
       "    <tr>\n",
       "      <th>1</th>\n",
       "      <td>2008-12-02</td>\n",
       "      <td>Albury</td>\n",
       "      <td>7.4</td>\n",
       "      <td>25.1</td>\n",
       "      <td>0.000000</td>\n",
       "      <td>NaN</td>\n",
       "      <td>NaN</td>\n",
       "      <td>WNW</td>\n",
       "      <td>44.0</td>\n",
       "      <td>NNW</td>\n",
       "      <td>...</td>\n",
       "      <td>NaN</td>\n",
       "      <td>NaN</td>\n",
       "      <td>17.2</td>\n",
       "      <td>24.3</td>\n",
       "      <td>No</td>\n",
       "      <td>0.0</td>\n",
       "      <td>No</td>\n",
       "      <td>2</td>\n",
       "      <td>12</td>\n",
       "      <td>2008</td>\n",
       "    </tr>\n",
       "    <tr>\n",
       "      <th>2</th>\n",
       "      <td>2008-12-03</td>\n",
       "      <td>Albury</td>\n",
       "      <td>12.9</td>\n",
       "      <td>25.7</td>\n",
       "      <td>0.000000</td>\n",
       "      <td>NaN</td>\n",
       "      <td>NaN</td>\n",
       "      <td>WSW</td>\n",
       "      <td>46.0</td>\n",
       "      <td>W</td>\n",
       "      <td>...</td>\n",
       "      <td>NaN</td>\n",
       "      <td>2.0</td>\n",
       "      <td>21.0</td>\n",
       "      <td>23.2</td>\n",
       "      <td>No</td>\n",
       "      <td>0.0</td>\n",
       "      <td>No</td>\n",
       "      <td>3</td>\n",
       "      <td>12</td>\n",
       "      <td>2008</td>\n",
       "    </tr>\n",
       "    <tr>\n",
       "      <th>3</th>\n",
       "      <td>2008-12-04</td>\n",
       "      <td>Albury</td>\n",
       "      <td>9.2</td>\n",
       "      <td>28.0</td>\n",
       "      <td>0.000000</td>\n",
       "      <td>NaN</td>\n",
       "      <td>NaN</td>\n",
       "      <td>NE</td>\n",
       "      <td>24.0</td>\n",
       "      <td>SE</td>\n",
       "      <td>...</td>\n",
       "      <td>NaN</td>\n",
       "      <td>NaN</td>\n",
       "      <td>18.1</td>\n",
       "      <td>26.5</td>\n",
       "      <td>No</td>\n",
       "      <td>1.0</td>\n",
       "      <td>No</td>\n",
       "      <td>4</td>\n",
       "      <td>12</td>\n",
       "      <td>2008</td>\n",
       "    </tr>\n",
       "    <tr>\n",
       "      <th>4</th>\n",
       "      <td>2008-12-05</td>\n",
       "      <td>Albury</td>\n",
       "      <td>17.5</td>\n",
       "      <td>32.3</td>\n",
       "      <td>0.693147</td>\n",
       "      <td>NaN</td>\n",
       "      <td>NaN</td>\n",
       "      <td>W</td>\n",
       "      <td>41.0</td>\n",
       "      <td>ENE</td>\n",
       "      <td>...</td>\n",
       "      <td>7.0</td>\n",
       "      <td>8.0</td>\n",
       "      <td>17.8</td>\n",
       "      <td>29.7</td>\n",
       "      <td>No</td>\n",
       "      <td>0.2</td>\n",
       "      <td>No</td>\n",
       "      <td>5</td>\n",
       "      <td>12</td>\n",
       "      <td>2008</td>\n",
       "    </tr>\n",
       "  </tbody>\n",
       "</table>\n",
       "<p>5 rows × 27 columns</p>\n",
       "</div>"
      ],
      "text/plain": [
       "        Date Location  MinTemp  MaxTemp  Rainfall  Evaporation  Sunshine  \\\n",
       "0 2008-12-01   Albury     13.4     22.9  0.470004          NaN       NaN   \n",
       "1 2008-12-02   Albury      7.4     25.1  0.000000          NaN       NaN   \n",
       "2 2008-12-03   Albury     12.9     25.7  0.000000          NaN       NaN   \n",
       "3 2008-12-04   Albury      9.2     28.0  0.000000          NaN       NaN   \n",
       "4 2008-12-05   Albury     17.5     32.3  0.693147          NaN       NaN   \n",
       "\n",
       "  WindGustDir  WindGustSpeed WindDir9am  ... Cloud9am  Cloud3pm  Temp9am  \\\n",
       "0           W           44.0          W  ...      8.0       NaN     16.9   \n",
       "1         WNW           44.0        NNW  ...      NaN       NaN     17.2   \n",
       "2         WSW           46.0          W  ...      NaN       2.0     21.0   \n",
       "3          NE           24.0         SE  ...      NaN       NaN     18.1   \n",
       "4           W           41.0        ENE  ...      7.0       8.0     17.8   \n",
       "\n",
       "   Temp3pm  RainToday  RISK_MM  RainTomorrow  Day  Month  Year  \n",
       "0     21.8         No      0.0            No    1     12  2008  \n",
       "1     24.3         No      0.0            No    2     12  2008  \n",
       "2     23.2         No      0.0            No    3     12  2008  \n",
       "3     26.5         No      1.0            No    4     12  2008  \n",
       "4     29.7         No      0.2            No    5     12  2008  \n",
       "\n",
       "[5 rows x 27 columns]"
      ]
     },
     "execution_count": 46,
     "metadata": {},
     "output_type": "execute_result"
    }
   ],
   "source": [
    "weather_data['Day'] = weather_data.Date.dt.day\n",
    "weather_data['Month'] = weather_data.Date.dt.month\n",
    "weather_data['Year'] = weather_data.Date.dt.year\n",
    "weather_data.head()"
   ]
  },
  {
   "cell_type": "markdown",
   "metadata": {},
   "source": [
    "Необходимо каким то образом заполнить пропуски в данных, самым логичным наверно является проинтерполировать значения по\n",
    "временному ряду для каждой метеостанции."
   ]
  },
  {
   "cell_type": "code",
   "execution_count": 47,
   "metadata": {
    "pycharm": {
     "name": "#%%\n"
    }
   },
   "outputs": [],
   "source": [
    "locs = weather_data.Location.unique()\n",
    "for loc in locs:\n",
    "    weather_data[weather_data.Location == loc].set_index('Date').\\\n",
    "                                    interpolate(method='time',  limit_direction='both').reset_index(inplace=True)"
   ]
  },
  {
   "cell_type": "code",
   "execution_count": 48,
   "metadata": {
    "pycharm": {
     "name": "#%%\n"
    }
   },
   "outputs": [
    {
     "name": "stdout",
     "output_type": "stream",
     "text": [
      "<class 'pandas.core.frame.DataFrame'>\n",
      "Int64Index: 114957 entries, 0 to 142192\n",
      "Data columns (total 27 columns):\n",
      " #   Column         Non-Null Count   Dtype         \n",
      "---  ------         --------------   -----         \n",
      " 0   Date           114957 non-null  datetime64[ns]\n",
      " 1   Location       114957 non-null  object        \n",
      " 2   MinTemp        114413 non-null  float64       \n",
      " 3   MaxTemp        114686 non-null  float64       \n",
      " 4   Rainfall       113664 non-null  float64       \n",
      " 5   Evaporation    65827 non-null   float64       \n",
      " 6   Sunshine       59874 non-null   float64       \n",
      " 7   WindGustDir    107500 non-null  object        \n",
      " 8   WindGustSpeed  107540 non-null  float64       \n",
      " 9   WindDir9am     106227 non-null  object        \n",
      " 10  WindDir3pm     111882 non-null  object        \n",
      " 11  WindSpeed9am   113821 non-null  float64       \n",
      " 12  WindSpeed3pm   112808 non-null  float64       \n",
      " 13  Humidity9am    113588 non-null  float64       \n",
      " 14  Humidity3pm    112076 non-null  float64       \n",
      " 15  Pressure9am    103574 non-null  float64       \n",
      " 16  Pressure3pm    103605 non-null  float64       \n",
      " 17  Cloud9am       70566 non-null   float64       \n",
      " 18  Cloud3pm       67714 non-null   float64       \n",
      " 19  Temp9am        114276 non-null  float64       \n",
      " 20  Temp3pm        112784 non-null  float64       \n",
      " 21  RainToday      113664 non-null  object        \n",
      " 22  RISK_MM        114957 non-null  float64       \n",
      " 23  RainTomorrow   114957 non-null  object        \n",
      " 24  Day            114957 non-null  int64         \n",
      " 25  Month          114957 non-null  int64         \n",
      " 26  Year           114957 non-null  int64         \n",
      "dtypes: datetime64[ns](1), float64(17), int64(3), object(6)\n",
      "memory usage: 24.6+ MB\n"
     ]
    }
   ],
   "source": [
    "weather_data.info()"
   ]
  },
  {
   "cell_type": "markdown",
   "metadata": {},
   "source": [
    "К сожалению, пропуски всё еще присутствуют. Это означает, что для некоторых метеостанций подобных наблюдений, значения в\n",
    "которых отсутствуют, вообще не проводилось.\n",
    "\n",
    "Можно выкинуть эти метеостанции, можно выкинуть эти колонки, а можно заполнить всё какими нибудь усредненными по годам\n",
    "значениями по разным станциям."
   ]
  },
  {
   "cell_type": "markdown",
   "metadata": {},
   "source": [
    "Отсутствующие значения заполним средним за этот день по всем годам и метеостанциям. За исключением колонок\n",
    "*Evaporation*, *Sunshine*, *Cloud9am*, *Cloud3pm*. Так как в этих данных много пропусков, и так как эти пропуски\n",
    "соответствуют метеостанциям, на которых вообще подобных измерений не производилось. Данные пропуски попробуем потом\n",
    "заполнить MICE алгоритмом похже."
   ]
  },
  {
   "cell_type": "code",
   "execution_count": 49,
   "metadata": {
    "pycharm": {
     "name": "#%%\n"
    }
   },
   "outputs": [
    {
     "name": "stdout",
     "output_type": "stream",
     "text": [
      "<class 'pandas.core.frame.DataFrame'>\n",
      "Int64Index: 114957 entries, 0 to 142192\n",
      "Data columns (total 27 columns):\n",
      " #   Column         Non-Null Count   Dtype         \n",
      "---  ------         --------------   -----         \n",
      " 0   Date           114957 non-null  datetime64[ns]\n",
      " 1   Location       114957 non-null  object        \n",
      " 2   MinTemp        114957 non-null  float64       \n",
      " 3   MaxTemp        114957 non-null  float64       \n",
      " 4   Rainfall       114957 non-null  float64       \n",
      " 5   Evaporation    65827 non-null   float64       \n",
      " 6   Sunshine       59874 non-null   float64       \n",
      " 7   WindGustDir    107500 non-null  object        \n",
      " 8   WindGustSpeed  114957 non-null  float64       \n",
      " 9   WindDir9am     106227 non-null  object        \n",
      " 10  WindDir3pm     111882 non-null  object        \n",
      " 11  WindSpeed9am   114957 non-null  float64       \n",
      " 12  WindSpeed3pm   114957 non-null  float64       \n",
      " 13  Humidity9am    114957 non-null  float64       \n",
      " 14  Humidity3pm    114957 non-null  float64       \n",
      " 15  Pressure9am    114957 non-null  float64       \n",
      " 16  Pressure3pm    114957 non-null  float64       \n",
      " 17  Cloud9am       70566 non-null   float64       \n",
      " 18  Cloud3pm       67714 non-null   float64       \n",
      " 19  Temp9am        114957 non-null  float64       \n",
      " 20  Temp3pm        114957 non-null  float64       \n",
      " 21  RainToday      113664 non-null  object        \n",
      " 22  RISK_MM        114957 non-null  float64       \n",
      " 23  RainTomorrow   114957 non-null  object        \n",
      " 24  Day            114957 non-null  int64         \n",
      " 25  Month          114957 non-null  int64         \n",
      " 26  Year           114957 non-null  int64         \n",
      "dtypes: datetime64[ns](1), float64(17), int64(3), object(6)\n",
      "memory usage: 24.6+ MB\n"
     ]
    }
   ],
   "source": [
    "numeric_columns = weather_data.select_dtypes(include=np.number).columns.tolist()\n",
    "numeric_columns = [i for i in numeric_columns if i not in ['Evaporation', 'Sunshine', 'Cloud9am', 'Cloud3pm']]\n",
    "weather_data[[i for i in numeric_columns if i not in ['Month', 'Day']]]= weather_data[numeric_columns]. \\\n",
    "                                groupby(['Month', 'Day']).transform(lambda group: group.fillna(group.mean()))\n",
    "weather_data.info()"
   ]
  },
  {
   "cell_type": "markdown",
   "metadata": {},
   "source": [
    "Так, теперь посмотрим на категориальные признаки:"
   ]
  },
  {
   "cell_type": "code",
   "execution_count": 50,
   "metadata": {
    "pycharm": {
     "name": "#%%\n"
    }
   },
   "outputs": [
    {
     "name": "stdout",
     "output_type": "stream",
     "text": [
      "<class 'pandas.core.frame.DataFrame'>\n",
      "Int64Index: 114957 entries, 0 to 142192\n",
      "Data columns (total 6 columns):\n",
      " #   Column        Non-Null Count   Dtype \n",
      "---  ------        --------------   ----- \n",
      " 0   Location      114957 non-null  object\n",
      " 1   WindGustDir   107500 non-null  object\n",
      " 2   WindDir9am    106227 non-null  object\n",
      " 3   WindDir3pm    111882 non-null  object\n",
      " 4   RainToday     113664 non-null  object\n",
      " 5   RainTomorrow  114957 non-null  object\n",
      "dtypes: object(6)\n",
      "memory usage: 6.1+ MB\n"
     ]
    }
   ],
   "source": [
    "weather_data.select_dtypes('object').info()"
   ]
  },
  {
   "cell_type": "markdown",
   "metadata": {},
   "source": [
    "Видим, что пропуски есть везде, кроме *Location* и *RainTomorrow*, *RainToday*.\n",
    "*Nan* в признаках с напрвлением ветра заменим на самые популярные направления ветра"
   ]
  },
  {
   "cell_type": "code",
   "execution_count": 51,
   "metadata": {
    "pycharm": {
     "name": "#%%\n"
    }
   },
   "outputs": [],
   "source": [
    "weather_data[['WindGustDir', 'WindDir9am', 'WindDir3pm']] = weather_data[['WindGustDir', 'WindDir9am', 'WindDir3pm', 'Month', 'Day']]. \\\n",
    "                                groupby(['Month', 'Day']).transform(lambda group: group.fillna(group.value_counts().index[0]))"
   ]
  },
  {
   "cell_type": "markdown",
   "metadata": {},
   "source": [
    "Посмотрим на количество категорий в каждом категориальном признаке:"
   ]
  },
  {
   "cell_type": "code",
   "execution_count": 52,
   "metadata": {
    "pycharm": {
     "name": "#%%\n"
    }
   },
   "outputs": [
    {
     "name": "stdout",
     "output_type": "stream",
     "text": [
      "['Albury' 'BadgerysCreek' 'Cobar' 'CoffsHarbour' 'Moree' 'Newcastle'\n",
      " 'NorahHead' 'NorfolkIsland' 'Penrith' 'Richmond' 'Sydney' 'SydneyAirport'\n",
      " 'WaggaWagga' 'Williamtown' 'Wollongong' 'Canberra' 'Tuggeranong'\n",
      " 'MountGinini' 'Ballarat' 'Bendigo' 'Sale' 'MelbourneAirport' 'Melbourne'\n",
      " 'Mildura' 'Nhil' 'Portland' 'Watsonia' 'Dartmoor' 'Brisbane' 'Cairns'\n",
      " 'GoldCoast' 'Townsville' 'Adelaide' 'MountGambier' 'Nuriootpa' 'Woomera'\n",
      " 'Albany' 'Witchcliffe' 'PearceRAAF' 'PerthAirport' 'Perth' 'SalmonGums'\n",
      " 'Walpole' 'Hobart' 'Launceston' 'AliceSprings' 'Darwin' 'Katherine'\n",
      " 'Uluru']\n",
      "['W' 'WNW' 'WSW' 'NE' 'N' 'NNE' 'ENE' 'SSE' 'S' 'SW' 'NNW' 'SE' 'NW' 'E'\n",
      " 'SSW' 'ESE']\n",
      "['W' 'NNW' 'SE' 'ENE' 'SW' 'SSE' 'S' 'NE' 'E' 'SSW' 'ESE' 'N' 'NW' 'WSW'\n",
      " 'WNW' 'NNE']\n",
      "['WNW' 'WSW' 'E' 'NW' 'W' 'SSE' 'ESE' 'ENE' 'NNW' 'SE' 'N' 'SW' 'SSW' 'S'\n",
      " 'NNE' 'NE']\n",
      "['No' 'Yes' nan]\n",
      "['No' 'Yes']\n"
     ]
    }
   ],
   "source": [
    "for column in weather_data.select_dtypes('object').columns.tolist():\n",
    "    print(weather_data[column].unique())"
   ]
  },
  {
   "cell_type": "markdown",
   "metadata": {},
   "source": [
    "Видим, что количество категорий довольно большое. Надо думать, как их кодировать.\n",
    "С направлением ветра можно в качестве вещественного значения использовать угол направления ветра в радианах. Единственное,\n",
    "что мне не понятно, является ли пропущенное значение в направлении ветра - отсутствием ветра. Так как на каггле об этом нет\n",
    "информации, то не буду ничего выдумывать и заполню пропуски, как и раньше для вещественных значений.\n",
    "\n",
    "Для метеостанций всё сложнее намного. Вроде бы самым очевидным является one-hot кодирование,но, во-первых,\n",
    "у нас довольно много их, поэтому матрица признаков получится уж больно разреженная, во-вторых, многие метеостанции\n",
    "расположены в одном городе, к сожалению, из названия автоматически вычленить эту информацию нельзя. Можно собрать\n",
    "их координаты в широте и долготе (вручную естесно) и кластеризовать, но в качестве расстояния правдивее использовать тогда формулу\n",
    "расстояния Гаверсина, которая учитывает искажение Земли. Вообщем всё сложно, не будем углубляться в дебри и\n",
    "сделаем обычное one-hot кодирование."
   ]
  },
  {
   "cell_type": "code",
   "execution_count": 53,
   "metadata": {
    "pycharm": {
     "name": "#%%\n"
    }
   },
   "outputs": [],
   "source": [
    "one_hot = pd.get_dummies(weather_data['Location'])\n",
    "weather_data = weather_data.join(one_hot)"
   ]
  },
  {
   "cell_type": "markdown",
   "metadata": {
    "pycharm": {
     "name": "#%% md\n"
    }
   },
   "source": [
    "Отлично, теперь напишем словарик для замены значений в наших ветрах, плюс таргетную переменную тоже заменим на 0, 1"
   ]
  },
  {
   "cell_type": "code",
   "execution_count": 54,
   "metadata": {
    "pycharm": {
     "name": "#%%\n"
    }
   },
   "outputs": [
    {
     "data": {
      "text/plain": [
       "array(['W', 'WNW', 'WSW', 'NE', 'N', 'NNE', 'ENE', 'SSE', 'S', 'SW',\n",
       "       'NNW', 'SE', 'NW', 'E', 'SSW', 'ESE'], dtype=object)"
      ]
     },
     "execution_count": 54,
     "metadata": {},
     "output_type": "execute_result"
    }
   ],
   "source": [
    "weather_data.WindGustDir.unique()"
   ]
  },
  {
   "cell_type": "code",
   "execution_count": 55,
   "metadata": {
    "pycharm": {
     "name": "#%%\n"
    }
   },
   "outputs": [
    {
     "data": {
      "text/html": [
       "<div>\n",
       "<style scoped>\n",
       "    .dataframe tbody tr th:only-of-type {\n",
       "        vertical-align: middle;\n",
       "    }\n",
       "\n",
       "    .dataframe tbody tr th {\n",
       "        vertical-align: top;\n",
       "    }\n",
       "\n",
       "    .dataframe thead th {\n",
       "        text-align: right;\n",
       "    }\n",
       "</style>\n",
       "<table border=\"1\" class=\"dataframe\">\n",
       "  <thead>\n",
       "    <tr style=\"text-align: right;\">\n",
       "      <th></th>\n",
       "      <th>Date</th>\n",
       "      <th>Location</th>\n",
       "      <th>MinTemp</th>\n",
       "      <th>MaxTemp</th>\n",
       "      <th>Rainfall</th>\n",
       "      <th>Evaporation</th>\n",
       "      <th>Sunshine</th>\n",
       "      <th>WindGustDir</th>\n",
       "      <th>WindGustSpeed</th>\n",
       "      <th>WindDir9am</th>\n",
       "      <th>...</th>\n",
       "      <th>Townsville</th>\n",
       "      <th>Tuggeranong</th>\n",
       "      <th>Uluru</th>\n",
       "      <th>WaggaWagga</th>\n",
       "      <th>Walpole</th>\n",
       "      <th>Watsonia</th>\n",
       "      <th>Williamtown</th>\n",
       "      <th>Witchcliffe</th>\n",
       "      <th>Wollongong</th>\n",
       "      <th>Woomera</th>\n",
       "    </tr>\n",
       "  </thead>\n",
       "  <tbody>\n",
       "    <tr>\n",
       "      <th>0</th>\n",
       "      <td>2008-12-01</td>\n",
       "      <td>Albury</td>\n",
       "      <td>13.4</td>\n",
       "      <td>22.9</td>\n",
       "      <td>0.470004</td>\n",
       "      <td>NaN</td>\n",
       "      <td>NaN</td>\n",
       "      <td>270.0</td>\n",
       "      <td>44.0</td>\n",
       "      <td>270.0</td>\n",
       "      <td>...</td>\n",
       "      <td>0</td>\n",
       "      <td>0</td>\n",
       "      <td>0</td>\n",
       "      <td>0</td>\n",
       "      <td>0</td>\n",
       "      <td>0</td>\n",
       "      <td>0</td>\n",
       "      <td>0</td>\n",
       "      <td>0</td>\n",
       "      <td>0</td>\n",
       "    </tr>\n",
       "    <tr>\n",
       "      <th>1</th>\n",
       "      <td>2008-12-02</td>\n",
       "      <td>Albury</td>\n",
       "      <td>7.4</td>\n",
       "      <td>25.1</td>\n",
       "      <td>0.000000</td>\n",
       "      <td>NaN</td>\n",
       "      <td>NaN</td>\n",
       "      <td>292.5</td>\n",
       "      <td>44.0</td>\n",
       "      <td>337.5</td>\n",
       "      <td>...</td>\n",
       "      <td>0</td>\n",
       "      <td>0</td>\n",
       "      <td>0</td>\n",
       "      <td>0</td>\n",
       "      <td>0</td>\n",
       "      <td>0</td>\n",
       "      <td>0</td>\n",
       "      <td>0</td>\n",
       "      <td>0</td>\n",
       "      <td>0</td>\n",
       "    </tr>\n",
       "    <tr>\n",
       "      <th>2</th>\n",
       "      <td>2008-12-03</td>\n",
       "      <td>Albury</td>\n",
       "      <td>12.9</td>\n",
       "      <td>25.7</td>\n",
       "      <td>0.000000</td>\n",
       "      <td>NaN</td>\n",
       "      <td>NaN</td>\n",
       "      <td>247.5</td>\n",
       "      <td>46.0</td>\n",
       "      <td>270.0</td>\n",
       "      <td>...</td>\n",
       "      <td>0</td>\n",
       "      <td>0</td>\n",
       "      <td>0</td>\n",
       "      <td>0</td>\n",
       "      <td>0</td>\n",
       "      <td>0</td>\n",
       "      <td>0</td>\n",
       "      <td>0</td>\n",
       "      <td>0</td>\n",
       "      <td>0</td>\n",
       "    </tr>\n",
       "    <tr>\n",
       "      <th>3</th>\n",
       "      <td>2008-12-04</td>\n",
       "      <td>Albury</td>\n",
       "      <td>9.2</td>\n",
       "      <td>28.0</td>\n",
       "      <td>0.000000</td>\n",
       "      <td>NaN</td>\n",
       "      <td>NaN</td>\n",
       "      <td>45.0</td>\n",
       "      <td>24.0</td>\n",
       "      <td>135.0</td>\n",
       "      <td>...</td>\n",
       "      <td>0</td>\n",
       "      <td>0</td>\n",
       "      <td>0</td>\n",
       "      <td>0</td>\n",
       "      <td>0</td>\n",
       "      <td>0</td>\n",
       "      <td>0</td>\n",
       "      <td>0</td>\n",
       "      <td>0</td>\n",
       "      <td>0</td>\n",
       "    </tr>\n",
       "    <tr>\n",
       "      <th>4</th>\n",
       "      <td>2008-12-05</td>\n",
       "      <td>Albury</td>\n",
       "      <td>17.5</td>\n",
       "      <td>32.3</td>\n",
       "      <td>0.693147</td>\n",
       "      <td>NaN</td>\n",
       "      <td>NaN</td>\n",
       "      <td>270.0</td>\n",
       "      <td>41.0</td>\n",
       "      <td>67.5</td>\n",
       "      <td>...</td>\n",
       "      <td>0</td>\n",
       "      <td>0</td>\n",
       "      <td>0</td>\n",
       "      <td>0</td>\n",
       "      <td>0</td>\n",
       "      <td>0</td>\n",
       "      <td>0</td>\n",
       "      <td>0</td>\n",
       "      <td>0</td>\n",
       "      <td>0</td>\n",
       "    </tr>\n",
       "  </tbody>\n",
       "</table>\n",
       "<p>5 rows × 76 columns</p>\n",
       "</div>"
      ],
      "text/plain": [
       "        Date Location  MinTemp  MaxTemp  Rainfall  Evaporation  Sunshine  \\\n",
       "0 2008-12-01   Albury     13.4     22.9  0.470004          NaN       NaN   \n",
       "1 2008-12-02   Albury      7.4     25.1  0.000000          NaN       NaN   \n",
       "2 2008-12-03   Albury     12.9     25.7  0.000000          NaN       NaN   \n",
       "3 2008-12-04   Albury      9.2     28.0  0.000000          NaN       NaN   \n",
       "4 2008-12-05   Albury     17.5     32.3  0.693147          NaN       NaN   \n",
       "\n",
       "   WindGustDir  WindGustSpeed  WindDir9am  ...  Townsville  Tuggeranong  \\\n",
       "0        270.0           44.0       270.0  ...           0            0   \n",
       "1        292.5           44.0       337.5  ...           0            0   \n",
       "2        247.5           46.0       270.0  ...           0            0   \n",
       "3         45.0           24.0       135.0  ...           0            0   \n",
       "4        270.0           41.0        67.5  ...           0            0   \n",
       "\n",
       "   Uluru  WaggaWagga  Walpole  Watsonia  Williamtown  Witchcliffe  Wollongong  \\\n",
       "0      0           0        0         0            0            0           0   \n",
       "1      0           0        0         0            0            0           0   \n",
       "2      0           0        0         0            0            0           0   \n",
       "3      0           0        0         0            0            0           0   \n",
       "4      0           0        0         0            0            0           0   \n",
       "\n",
       "   Woomera  \n",
       "0        0  \n",
       "1        0  \n",
       "2        0  \n",
       "3        0  \n",
       "4        0  \n",
       "\n",
       "[5 rows x 76 columns]"
      ]
     },
     "execution_count": 55,
     "metadata": {},
     "output_type": "execute_result"
    }
   ],
   "source": [
    "winddir = {'W': 270.0, 'WNW': 292.5, 'WSW': 247.5, 'NE': 45.0, 'NNW': 337.5,\n",
    "           'N': 0.0, 'NNE': 22.5, 'SW': 225.0, 'ENE': 67.5, 'SSE': 157.5,\n",
    "           'S': 180.0, 'NW': 315.0, 'SE': 135.0, 'ESE': 112.5, 'E': 90.0, 'SSW':202.5,\n",
    "           'Yes': 1, 'No': 0}\n",
    "weather_data.replace(winddir, inplace=True)\n",
    "weather_data.head()"
   ]
  },
  {
   "cell_type": "code",
   "execution_count": 56,
   "metadata": {
    "pycharm": {
     "name": "#%%\n"
    }
   },
   "outputs": [
    {
     "name": "stdout",
     "output_type": "stream",
     "text": [
      "<class 'pandas.core.frame.DataFrame'>\n",
      "Int64Index: 114957 entries, 0 to 142192\n",
      "Data columns (total 76 columns):\n",
      " #   Column            Non-Null Count   Dtype         \n",
      "---  ------            --------------   -----         \n",
      " 0   Date              114957 non-null  datetime64[ns]\n",
      " 1   Location          114957 non-null  object        \n",
      " 2   MinTemp           114957 non-null  float64       \n",
      " 3   MaxTemp           114957 non-null  float64       \n",
      " 4   Rainfall          114957 non-null  float64       \n",
      " 5   Evaporation       65827 non-null   float64       \n",
      " 6   Sunshine          59874 non-null   float64       \n",
      " 7   WindGustDir       114957 non-null  float64       \n",
      " 8   WindGustSpeed     114957 non-null  float64       \n",
      " 9   WindDir9am        114957 non-null  float64       \n",
      " 10  WindDir3pm        114957 non-null  float64       \n",
      " 11  WindSpeed9am      114957 non-null  float64       \n",
      " 12  WindSpeed3pm      114957 non-null  float64       \n",
      " 13  Humidity9am       114957 non-null  float64       \n",
      " 14  Humidity3pm       114957 non-null  float64       \n",
      " 15  Pressure9am       114957 non-null  float64       \n",
      " 16  Pressure3pm       114957 non-null  float64       \n",
      " 17  Cloud9am          70566 non-null   float64       \n",
      " 18  Cloud3pm          67714 non-null   float64       \n",
      " 19  Temp9am           114957 non-null  float64       \n",
      " 20  Temp3pm           114957 non-null  float64       \n",
      " 21  RainToday         113664 non-null  float64       \n",
      " 22  RISK_MM           114957 non-null  float64       \n",
      " 23  RainTomorrow      114957 non-null  int64         \n",
      " 24  Day               114957 non-null  int64         \n",
      " 25  Month             114957 non-null  int64         \n",
      " 26  Year              114957 non-null  int64         \n",
      " 27  Adelaide          114957 non-null  uint8         \n",
      " 28  Albany            114957 non-null  uint8         \n",
      " 29  Albury            114957 non-null  uint8         \n",
      " 30  AliceSprings      114957 non-null  uint8         \n",
      " 31  BadgerysCreek     114957 non-null  uint8         \n",
      " 32  Ballarat          114957 non-null  uint8         \n",
      " 33  Bendigo           114957 non-null  uint8         \n",
      " 34  Brisbane          114957 non-null  uint8         \n",
      " 35  Cairns            114957 non-null  uint8         \n",
      " 36  Canberra          114957 non-null  uint8         \n",
      " 37  Cobar             114957 non-null  uint8         \n",
      " 38  CoffsHarbour      114957 non-null  uint8         \n",
      " 39  Dartmoor          114957 non-null  uint8         \n",
      " 40  Darwin            114957 non-null  uint8         \n",
      " 41  GoldCoast         114957 non-null  uint8         \n",
      " 42  Hobart            114957 non-null  uint8         \n",
      " 43  Katherine         114957 non-null  uint8         \n",
      " 44  Launceston        114957 non-null  uint8         \n",
      " 45  Melbourne         114957 non-null  uint8         \n",
      " 46  MelbourneAirport  114957 non-null  uint8         \n",
      " 47  Mildura           114957 non-null  uint8         \n",
      " 48  Moree             114957 non-null  uint8         \n",
      " 49  MountGambier      114957 non-null  uint8         \n",
      " 50  MountGinini       114957 non-null  uint8         \n",
      " 51  Newcastle         114957 non-null  uint8         \n",
      " 52  Nhil              114957 non-null  uint8         \n",
      " 53  NorahHead         114957 non-null  uint8         \n",
      " 54  NorfolkIsland     114957 non-null  uint8         \n",
      " 55  Nuriootpa         114957 non-null  uint8         \n",
      " 56  PearceRAAF        114957 non-null  uint8         \n",
      " 57  Penrith           114957 non-null  uint8         \n",
      " 58  Perth             114957 non-null  uint8         \n",
      " 59  PerthAirport      114957 non-null  uint8         \n",
      " 60  Portland          114957 non-null  uint8         \n",
      " 61  Richmond          114957 non-null  uint8         \n",
      " 62  Sale              114957 non-null  uint8         \n",
      " 63  SalmonGums        114957 non-null  uint8         \n",
      " 64  Sydney            114957 non-null  uint8         \n",
      " 65  SydneyAirport     114957 non-null  uint8         \n",
      " 66  Townsville        114957 non-null  uint8         \n",
      " 67  Tuggeranong       114957 non-null  uint8         \n",
      " 68  Uluru             114957 non-null  uint8         \n",
      " 69  WaggaWagga        114957 non-null  uint8         \n",
      " 70  Walpole           114957 non-null  uint8         \n",
      " 71  Watsonia          114957 non-null  uint8         \n",
      " 72  Williamtown       114957 non-null  uint8         \n",
      " 73  Witchcliffe       114957 non-null  uint8         \n",
      " 74  Wollongong        114957 non-null  uint8         \n",
      " 75  Woomera           114957 non-null  uint8         \n",
      "dtypes: datetime64[ns](1), float64(21), int64(4), object(1), uint8(49)\n",
      "memory usage: 34.9+ MB\n"
     ]
    }
   ],
   "source": [
    "weather_data.info()"
   ]
  },
  {
   "cell_type": "markdown",
   "metadata": {},
   "source": [
    "Посмотрим на гистограмму осадков в мм (*Rainfall*) в зависимости от бинарного признака RainToday\n",
    "(был ли в этот день дождь)"
   ]
  },
  {
   "cell_type": "code",
   "execution_count": 57,
   "metadata": {
    "pycharm": {
     "name": "#%%\n"
    }
   },
   "outputs": [
    {
     "data": {
      "text/plain": [
       "<AxesSubplot:xlabel='Rainfall', ylabel='Count'>"
      ]
     },
     "execution_count": 57,
     "metadata": {},
     "output_type": "execute_result"
    },
    {
     "data": {
      "image/png": "[encoded data removed]",
      "text/plain": [
       "<Figure size 432x288 with 1 Axes>"
      ]
     },
     "metadata": {},
     "output_type": "display_data"
    }
   ],
   "source": [
    "sns.histplot(x=weather_data.Rainfall, hue=weather_data.RainToday)"
   ]
  },
  {
   "cell_type": "markdown",
   "metadata": {},
   "source": [
    "Видим, что большинство значений мм осадков находятся в нуле, это не очень удобное распределение для алгоритмов,\n",
    "поэтому лучше из этих двух признаков оставить только бинарный *RainToday*, который, судя по гистограмме,\n",
    "принимает значение 1 только в том случае, если осадков было больше 0.6, думаю, что такой эвристики хватит для\n",
    "заполнения пропусков."
   ]
  },
  {
   "cell_type": "code",
   "execution_count": 58,
   "metadata": {
    "pycharm": {
     "name": "#%%\n"
    }
   },
   "outputs": [
    {
     "name": "stderr",
     "output_type": "stream",
     "text": [
      "D:\\Anaconda\\envs\\myenv\\lib\\site-packages\\pandas\\core\\series.py:4517: SettingWithCopyWarning: \n",
      "A value is trying to be set on a copy of a slice from a DataFrame\n",
      "\n",
      "See the caveats in the documentation: https://pandas.pydata.org/pandas-docs/stable/user_guide/indexing.html#returning-a-view-versus-a-copy\n",
      "  return super().fillna(\n"
     ]
    }
   ],
   "source": [
    "weather_data[weather_data.Rainfall > 0.6].RainToday.fillna(1.0, inplace=True)\n",
    "weather_data.RainToday.fillna(0.0, inplace=True)\n"
   ]
  },
  {
   "cell_type": "markdown",
   "metadata": {
    "pycharm": {
     "name": "#%% md\n"
    }
   },
   "source": [
    "Удалим столбец *Rainfall*:"
   ]
  },
  {
   "cell_type": "code",
   "execution_count": 59,
   "metadata": {
    "pycharm": {
     "name": "#%%\n"
    }
   },
   "outputs": [],
   "source": [
    "weather_data.drop(columns=['Rainfall'], inplace=True)"
   ]
  },
  {
   "cell_type": "markdown",
   "metadata": {},
   "source": [
    "Здорово, теперь избавляемся от ненужных колонок: *Location*, *RISK_MM*,  *Date*."
   ]
  },
  {
   "cell_type": "code",
   "execution_count": 60,
   "metadata": {
    "pycharm": {
     "name": "#%%\n"
    }
   },
   "outputs": [],
   "source": [
    "weather_data.drop(columns=['Location', 'RISK_MM', 'Date'], inplace=True)"
   ]
  },
  {
   "cell_type": "markdown",
   "metadata": {},
   "source": [
    "В наших кодировках признаков, тем не менее, присутствует одна неточность. Если посмотреть на значения\n",
    "столбцов *Month*, *Day*, *WindDir...*, то можно обнаружить, что значения в них цикличны, то есть расстояние\n",
    "между, допустим, 31 днем и 1-ым фактически меньше, чем между 31-ым и 25-ым.\n",
    "Чтобы добиться этой же цикличности в наших кодировках данных признаков, можно разложить эти данные на значения\n",
    "синуса и косинуса, преобразовав значения признаков в радианы.\n",
    "Таким образом, для столбцов  *Month* и *Day* формулы преобразования признаков будут следующие:\n",
    "\n",
    "$component_{sin} = sin(\\frac{2\\cdot\\pi\\cdot value}{value_{max}})$,\n",
    "$component_{cos} = cos(\\frac{2\\cdot\\pi\\cdot value}{value_{max}})$"
   ]
  },
  {
   "cell_type": "code",
   "execution_count": 61,
   "metadata": {
    "pycharm": {
     "name": "#%%\n"
    }
   },
   "outputs": [
    {
     "data": {
      "text/html": [
       "<div>\n",
       "<style scoped>\n",
       "    .dataframe tbody tr th:only-of-type {\n",
       "        vertical-align: middle;\n",
       "    }\n",
       "\n",
       "    .dataframe tbody tr th {\n",
       "        vertical-align: top;\n",
       "    }\n",
       "\n",
       "    .dataframe thead th {\n",
       "        text-align: right;\n",
       "    }\n",
       "</style>\n",
       "<table border=\"1\" class=\"dataframe\">\n",
       "  <thead>\n",
       "    <tr style=\"text-align: right;\">\n",
       "      <th></th>\n",
       "      <th>MinTemp</th>\n",
       "      <th>MaxTemp</th>\n",
       "      <th>Evaporation</th>\n",
       "      <th>Sunshine</th>\n",
       "      <th>WindGustDir</th>\n",
       "      <th>WindGustSpeed</th>\n",
       "      <th>WindDir9am</th>\n",
       "      <th>WindDir3pm</th>\n",
       "      <th>WindSpeed9am</th>\n",
       "      <th>WindSpeed3pm</th>\n",
       "      <th>...</th>\n",
       "      <th>Month_sin</th>\n",
       "      <th>Month_cos</th>\n",
       "      <th>Day_sin</th>\n",
       "      <th>Day_cos</th>\n",
       "      <th>WindGustDir_sin</th>\n",
       "      <th>WindGustDir_cos</th>\n",
       "      <th>WindDir9am_sin</th>\n",
       "      <th>WindDir9am_cos</th>\n",
       "      <th>WindDir3pm_sin</th>\n",
       "      <th>WindDir3pm_cos</th>\n",
       "    </tr>\n",
       "  </thead>\n",
       "  <tbody>\n",
       "    <tr>\n",
       "      <th>0</th>\n",
       "      <td>13.4</td>\n",
       "      <td>22.9</td>\n",
       "      <td>NaN</td>\n",
       "      <td>NaN</td>\n",
       "      <td>270.0</td>\n",
       "      <td>44.0</td>\n",
       "      <td>270.0</td>\n",
       "      <td>292.5</td>\n",
       "      <td>20.0</td>\n",
       "      <td>24.0</td>\n",
       "      <td>...</td>\n",
       "      <td>-2.449294e-16</td>\n",
       "      <td>1.0</td>\n",
       "      <td>0.201299</td>\n",
       "      <td>0.979530</td>\n",
       "      <td>-1.000000</td>\n",
       "      <td>-1.836970e-16</td>\n",
       "      <td>-1.000000</td>\n",
       "      <td>-1.836970e-16</td>\n",
       "      <td>-0.923880</td>\n",
       "      <td>3.826834e-01</td>\n",
       "    </tr>\n",
       "    <tr>\n",
       "      <th>1</th>\n",
       "      <td>7.4</td>\n",
       "      <td>25.1</td>\n",
       "      <td>NaN</td>\n",
       "      <td>NaN</td>\n",
       "      <td>292.5</td>\n",
       "      <td>44.0</td>\n",
       "      <td>337.5</td>\n",
       "      <td>247.5</td>\n",
       "      <td>4.0</td>\n",
       "      <td>22.0</td>\n",
       "      <td>...</td>\n",
       "      <td>-2.449294e-16</td>\n",
       "      <td>1.0</td>\n",
       "      <td>0.394356</td>\n",
       "      <td>0.918958</td>\n",
       "      <td>-0.923880</td>\n",
       "      <td>3.826834e-01</td>\n",
       "      <td>-0.382683</td>\n",
       "      <td>9.238795e-01</td>\n",
       "      <td>-0.923880</td>\n",
       "      <td>-3.826834e-01</td>\n",
       "    </tr>\n",
       "    <tr>\n",
       "      <th>2</th>\n",
       "      <td>12.9</td>\n",
       "      <td>25.7</td>\n",
       "      <td>NaN</td>\n",
       "      <td>NaN</td>\n",
       "      <td>247.5</td>\n",
       "      <td>46.0</td>\n",
       "      <td>270.0</td>\n",
       "      <td>247.5</td>\n",
       "      <td>19.0</td>\n",
       "      <td>26.0</td>\n",
       "      <td>...</td>\n",
       "      <td>-2.449294e-16</td>\n",
       "      <td>1.0</td>\n",
       "      <td>0.571268</td>\n",
       "      <td>0.820763</td>\n",
       "      <td>-0.923880</td>\n",
       "      <td>-3.826834e-01</td>\n",
       "      <td>-1.000000</td>\n",
       "      <td>-1.836970e-16</td>\n",
       "      <td>-0.923880</td>\n",
       "      <td>-3.826834e-01</td>\n",
       "    </tr>\n",
       "    <tr>\n",
       "      <th>3</th>\n",
       "      <td>9.2</td>\n",
       "      <td>28.0</td>\n",
       "      <td>NaN</td>\n",
       "      <td>NaN</td>\n",
       "      <td>45.0</td>\n",
       "      <td>24.0</td>\n",
       "      <td>135.0</td>\n",
       "      <td>90.0</td>\n",
       "      <td>11.0</td>\n",
       "      <td>9.0</td>\n",
       "      <td>...</td>\n",
       "      <td>-2.449294e-16</td>\n",
       "      <td>1.0</td>\n",
       "      <td>0.724793</td>\n",
       "      <td>0.688967</td>\n",
       "      <td>0.707107</td>\n",
       "      <td>7.071068e-01</td>\n",
       "      <td>0.707107</td>\n",
       "      <td>-7.071068e-01</td>\n",
       "      <td>1.000000</td>\n",
       "      <td>6.123234e-17</td>\n",
       "    </tr>\n",
       "    <tr>\n",
       "      <th>4</th>\n",
       "      <td>17.5</td>\n",
       "      <td>32.3</td>\n",
       "      <td>NaN</td>\n",
       "      <td>NaN</td>\n",
       "      <td>270.0</td>\n",
       "      <td>41.0</td>\n",
       "      <td>67.5</td>\n",
       "      <td>315.0</td>\n",
       "      <td>7.0</td>\n",
       "      <td>20.0</td>\n",
       "      <td>...</td>\n",
       "      <td>-2.449294e-16</td>\n",
       "      <td>1.0</td>\n",
       "      <td>0.848644</td>\n",
       "      <td>0.528964</td>\n",
       "      <td>-1.000000</td>\n",
       "      <td>-1.836970e-16</td>\n",
       "      <td>0.923880</td>\n",
       "      <td>3.826834e-01</td>\n",
       "      <td>-0.707107</td>\n",
       "      <td>7.071068e-01</td>\n",
       "    </tr>\n",
       "  </tbody>\n",
       "</table>\n",
       "<p>5 rows × 82 columns</p>\n",
       "</div>"
      ],
      "text/plain": [
       "   MinTemp  MaxTemp  Evaporation  Sunshine  WindGustDir  WindGustSpeed  \\\n",
       "0     13.4     22.9          NaN       NaN        270.0           44.0   \n",
       "1      7.4     25.1          NaN       NaN        292.5           44.0   \n",
       "2     12.9     25.7          NaN       NaN        247.5           46.0   \n",
       "3      9.2     28.0          NaN       NaN         45.0           24.0   \n",
       "4     17.5     32.3          NaN       NaN        270.0           41.0   \n",
       "\n",
       "   WindDir9am  WindDir3pm  WindSpeed9am  WindSpeed3pm  ...     Month_sin  \\\n",
       "0       270.0       292.5          20.0          24.0  ... -2.449294e-16   \n",
       "1       337.5       247.5           4.0          22.0  ... -2.449294e-16   \n",
       "2       270.0       247.5          19.0          26.0  ... -2.449294e-16   \n",
       "3       135.0        90.0          11.0           9.0  ... -2.449294e-16   \n",
       "4        67.5       315.0           7.0          20.0  ... -2.449294e-16   \n",
       "\n",
       "   Month_cos   Day_sin   Day_cos  WindGustDir_sin  WindGustDir_cos  \\\n",
       "0        1.0  0.201299  0.979530        -1.000000    -1.836970e-16   \n",
       "1        1.0  0.394356  0.918958        -0.923880     3.826834e-01   \n",
       "2        1.0  0.571268  0.820763        -0.923880    -3.826834e-01   \n",
       "3        1.0  0.724793  0.688967         0.707107     7.071068e-01   \n",
       "4        1.0  0.848644  0.528964        -1.000000    -1.836970e-16   \n",
       "\n",
       "   WindDir9am_sin  WindDir9am_cos  WindDir3pm_sin  WindDir3pm_cos  \n",
       "0       -1.000000   -1.836970e-16       -0.923880    3.826834e-01  \n",
       "1       -0.382683    9.238795e-01       -0.923880   -3.826834e-01  \n",
       "2       -1.000000   -1.836970e-16       -0.923880   -3.826834e-01  \n",
       "3        0.707107   -7.071068e-01        1.000000    6.123234e-17  \n",
       "4        0.923880    3.826834e-01       -0.707107    7.071068e-01  \n",
       "\n",
       "[5 rows x 82 columns]"
      ]
     },
     "execution_count": 61,
     "metadata": {},
     "output_type": "execute_result"
    }
   ],
   "source": [
    "weather_data['Month_sin'] = np.sin(2*np.pi*weather_data.Month/12)\n",
    "weather_data['Month_cos'] = np.cos(2*np.pi*weather_data.Month/12)\n",
    "\n",
    "weather_data['Day_sin'] = np.sin(2*np.pi*weather_data.Day/31)\n",
    "weather_data['Day_cos'] = np.cos(2*np.pi*weather_data.Day/31)\n",
    "\n",
    "for wind_dir in ['WindGustDir', 'WindDir9am', 'WindDir3pm']:\n",
    "    weather_data[f'{wind_dir}_sin'] = np.sin(2*np.pi*weather_data[wind_dir]/360)\n",
    "    weather_data[f'{wind_dir}_cos'] = np.cos(2*np.pi*weather_data[wind_dir]/360)\n",
    "\n",
    "weather_data.head()"
   ]
  },
  {
   "cell_type": "code",
   "execution_count": 62,
   "metadata": {
    "pycharm": {
     "name": "#%%\n"
    }
   },
   "outputs": [],
   "source": [
    "weather_data.drop(columns=['Month', 'Day', 'WindGustDir', 'WindDir9am', 'WindDir3pm'],\n",
    "                  inplace=True)"
   ]
  },
  {
   "cell_type": "markdown",
   "metadata": {},
   "source": [
    "Теперь вернемся к колонкам *Evaporation*, *Sunshine*, *Cloud9am*, *Cloud3pm*. Как уже говорилось ранее, в этих колонках\n",
    "пропущенные значения соответствуют метеостанциям, на которых подобных измерений вообще не проводилось. Поэтому на ходу\n",
    "придумать какую то эвристику для заполнения пропусков не получается. В таких ситуациях можно использовать MICE метод,\n",
    "суть которого состоит в том, что алгоритм итеративно выбирает переменную, содержащую пропуски, пропускам в других\n",
    "переменных присваивает среднее значение, обучает заранее определенный алгоритм на регрессию по рассматриваемой в данный\n",
    "момент переменной, предсказывает для неё значения, и двигается к следующим переменным с пропущенными значениями. Количество\n",
    "таких проходов по переменным с пропущенными значениями задается заранее, по умолчанию стоит 10 проходов."
   ]
  },
  {
   "cell_type": "code",
   "execution_count": 63,
   "metadata": {
    "pycharm": {
     "name": "#%%\n"
    }
   },
   "outputs": [],
   "source": [
    "from sklearn.experimental import enable_iterative_imputer\n",
    "from sklearn.impute import IterativeImputer\n",
    "\n",
    "max_values = [weather_data[i].max() for i in weather_data.columns]\n",
    "min_values = [weather_data[i].min() for i in weather_data.columns]\n",
    "weather_full_data = weather_data.copy(deep=True)\n",
    "mice_imputer = IterativeImputer(max_value=max_values, min_value=min_values)\n",
    "weather_full_data.iloc[:, :] = mice_imputer.fit_transform(weather_data)"
   ]
  },
  {
   "cell_type": "code",
   "execution_count": 64,
   "metadata": {
    "pycharm": {
     "name": "#%%\n"
    }
   },
   "outputs": [
    {
     "name": "stdout",
     "output_type": "stream",
     "text": [
      "<class 'pandas.core.frame.DataFrame'>\n",
      "Int64Index: 114957 entries, 0 to 142192\n",
      "Data columns (total 77 columns):\n",
      " #   Column            Non-Null Count   Dtype  \n",
      "---  ------            --------------   -----  \n",
      " 0   MinTemp           114957 non-null  float64\n",
      " 1   MaxTemp           114957 non-null  float64\n",
      " 2   Evaporation       114957 non-null  float64\n",
      " 3   Sunshine          114957 non-null  float64\n",
      " 4   WindGustSpeed     114957 non-null  float64\n",
      " 5   WindSpeed9am      114957 non-null  float64\n",
      " 6   WindSpeed3pm      114957 non-null  float64\n",
      " 7   Humidity9am       114957 non-null  float64\n",
      " 8   Humidity3pm       114957 non-null  float64\n",
      " 9   Pressure9am       114957 non-null  float64\n",
      " 10  Pressure3pm       114957 non-null  float64\n",
      " 11  Cloud9am          114957 non-null  float64\n",
      " 12  Cloud3pm          114957 non-null  float64\n",
      " 13  Temp9am           114957 non-null  float64\n",
      " 14  Temp3pm           114957 non-null  float64\n",
      " 15  RainToday         114957 non-null  float64\n",
      " 16  RainTomorrow      114957 non-null  float64\n",
      " 17  Year              114957 non-null  float64\n",
      " 18  Adelaide          114957 non-null  float64\n",
      " 19  Albany            114957 non-null  float64\n",
      " 20  Albury            114957 non-null  float64\n",
      " 21  AliceSprings      114957 non-null  float64\n",
      " 22  BadgerysCreek     114957 non-null  float64\n",
      " 23  Ballarat          114957 non-null  float64\n",
      " 24  Bendigo           114957 non-null  float64\n",
      " 25  Brisbane          114957 non-null  float64\n",
      " 26  Cairns            114957 non-null  float64\n",
      " 27  Canberra          114957 non-null  float64\n",
      " 28  Cobar             114957 non-null  float64\n",
      " 29  CoffsHarbour      114957 non-null  float64\n",
      " 30  Dartmoor          114957 non-null  float64\n",
      " 31  Darwin            114957 non-null  float64\n",
      " 32  GoldCoast         114957 non-null  float64\n",
      " 33  Hobart            114957 non-null  float64\n",
      " 34  Katherine         114957 non-null  float64\n",
      " 35  Launceston        114957 non-null  float64\n",
      " 36  Melbourne         114957 non-null  float64\n",
      " 37  MelbourneAirport  114957 non-null  float64\n",
      " 38  Mildura           114957 non-null  float64\n",
      " 39  Moree             114957 non-null  float64\n",
      " 40  MountGambier      114957 non-null  float64\n",
      " 41  MountGinini       114957 non-null  float64\n",
      " 42  Newcastle         114957 non-null  float64\n",
      " 43  Nhil              114957 non-null  float64\n",
      " 44  NorahHead         114957 non-null  float64\n",
      " 45  NorfolkIsland     114957 non-null  float64\n",
      " 46  Nuriootpa         114957 non-null  float64\n",
      " 47  PearceRAAF        114957 non-null  float64\n",
      " 48  Penrith           114957 non-null  float64\n",
      " 49  Perth             114957 non-null  float64\n",
      " 50  PerthAirport      114957 non-null  float64\n",
      " 51  Portland          114957 non-null  float64\n",
      " 52  Richmond          114957 non-null  float64\n",
      " 53  Sale              114957 non-null  float64\n",
      " 54  SalmonGums        114957 non-null  float64\n",
      " 55  Sydney            114957 non-null  float64\n",
      " 56  SydneyAirport     114957 non-null  float64\n",
      " 57  Townsville        114957 non-null  float64\n",
      " 58  Tuggeranong       114957 non-null  float64\n",
      " 59  Uluru             114957 non-null  float64\n",
      " 60  WaggaWagga        114957 non-null  float64\n",
      " 61  Walpole           114957 non-null  float64\n",
      " 62  Watsonia          114957 non-null  float64\n",
      " 63  Williamtown       114957 non-null  float64\n",
      " 64  Witchcliffe       114957 non-null  float64\n",
      " 65  Wollongong        114957 non-null  float64\n",
      " 66  Woomera           114957 non-null  float64\n",
      " 67  Month_sin         114957 non-null  float64\n",
      " 68  Month_cos         114957 non-null  float64\n",
      " 69  Day_sin           114957 non-null  float64\n",
      " 70  Day_cos           114957 non-null  float64\n",
      " 71  WindGustDir_sin   114957 non-null  float64\n",
      " 72  WindGustDir_cos   114957 non-null  float64\n",
      " 73  WindDir9am_sin    114957 non-null  float64\n",
      " 74  WindDir9am_cos    114957 non-null  float64\n",
      " 75  WindDir3pm_sin    114957 non-null  float64\n",
      " 76  WindDir3pm_cos    114957 non-null  float64\n",
      "dtypes: float64(77)\n",
      "memory usage: 73.4 MB\n"
     ]
    }
   ],
   "source": [
    "weather_full_data.info()"
   ]
  },
  {
   "cell_type": "markdown",
   "metadata": {},
   "source": [
    "Посмотрим на распределение таргетного класса в наборе данных."
   ]
  },
  {
   "cell_type": "code",
   "execution_count": 65,
   "metadata": {
    "pycharm": {
     "name": "#%%\n"
    }
   },
   "outputs": [
    {
     "name": "stderr",
     "output_type": "stream",
     "text": [
      "D:\\Anaconda\\envs\\myenv\\lib\\site-packages\\seaborn\\_decorators.py:36: FutureWarning: Pass the following variable as a keyword arg: x. From version 0.12, the only valid positional argument will be `data`, and passing other arguments without an explicit keyword will result in an error or misinterpretation.\n",
      "  warnings.warn(\n"
     ]
    },
    {
     "data": {
      "text/plain": [
       "<AxesSubplot:xlabel='RainTomorrow', ylabel='count'>"
      ]
     },
     "execution_count": 65,
     "metadata": {},
     "output_type": "execute_result"
    },
    {
     "data": {
      "image/png": "[encoded data removed]",
      "text/plain": [
       "<Figure size 432x288 with 1 Axes>"
      ]
     },
     "metadata": {},
     "output_type": "display_data"
    }
   ],
   "source": [
    "sns.countplot(weather_full_data.RainTomorrow)"
   ]
  },
  {
   "cell_type": "markdown",
   "metadata": {
    "pycharm": {
     "name": "#%% md\n"
    }
   },
   "source": [
    "Видим, что классы несбланасированы. При обучении алгоритмов лучше использовать стратифицированное разбиение на\n",
    "фолды.\n"
   ]
  },
  {
   "cell_type": "markdown",
   "metadata": {},
   "source": [
    "Сохраним табличку, а то пичарму уже плохо."
   ]
  },
  {
   "cell_type": "code",
   "execution_count": 66,
   "metadata": {
    "pycharm": {
     "name": "#%%\n"
    }
   },
   "outputs": [],
   "source": [
    "weather_full_data.to_csv('weather_preprocessed.csv',\n",
    "                    index=False)\n"
   ]
  }
 ],
 "metadata": {
  "kernelspec": {
   "display_name": "Python 3",
   "language": "python",
   "name": "python3"
  },
  "language_info": {
   "codemirror_mode": {
    "name": "ipython",
    "version": 3
   },
   "file_extension": ".py",
   "mimetype": "text/x-python",
   "name": "python",
   "nbconvert_exporter": "python",
   "pygments_lexer": "ipython3",
   "version": "3.8.5"
  }
 },
 "nbformat": 4,
 "nbformat_minor": 1
}
