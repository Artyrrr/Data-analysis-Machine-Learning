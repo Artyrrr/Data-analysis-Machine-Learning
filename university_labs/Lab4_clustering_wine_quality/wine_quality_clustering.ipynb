{
 "cells": [
  {
   "cell_type": "code",
   "execution_count": null,
   "metadata": {
    "pycharm": {
     "name": "#%%\n"
    }
   },
   "outputs": [],
   "source": [
    "import numpy as np\n",
    "import pandas as pd\n",
    "import matplotlib.pyplot as plt\n",
    "import seaborn as sns\n",
    "import warnings\n",
    "warnings.filterwarnings('ignore')"
   ]
  },
  {
   "cell_type": "code",
   "execution_count": null,
   "metadata": {
    "pycharm": {
     "name": "#%%\n"
    }
   },
   "outputs": [],
   "source": [
    "wine_qual_df = pd.read_csv('winequalityN.csv')\n",
    "wine_qual_df.head()"
   ]
  },
  {
   "cell_type": "markdown",
   "metadata": {},
   "source": [
    "Создадим новую переменную *quality_label*, которая категоризирует оценки экспертов на низкокачественное (<5), среднекачественное (>5 & <7) и высокакачественное (>7) вина."
   ]
  },
  {
   "cell_type": "code",
   "execution_count": null,
   "metadata": {
    "pycharm": {
     "name": "#%%\n"
    }
   },
   "outputs": [],
   "source": [
    "wine_qual_df['quality_label'] = wine_qual_df.quality.apply(lambda q: 'low' if q <= 5 else 'medium' if q <= 7 else 'high')"
   ]
  },
  {
   "cell_type": "code",
   "execution_count": null,
   "metadata": {
    "pycharm": {
     "name": "#%%\n"
    }
   },
   "outputs": [],
   "source": [
    "wine_qual_df['quality_label']"
   ]
  },
  {
   "cell_type": "markdown",
   "metadata": {},
   "source": [
    "Так как признаки данного набора данных представляют из себя химические хар-ки вин, а красное и белое вино имеют значимые различия на химическом уровне, дальнейшую обработку и анализ данных лучше производить отдельно для красных и белых вин.\n",
    "\n",
    "Убедимся в стат. значимых различиях признаков красных и белых вин:"
   ]
  },
  {
   "cell_type": "code",
   "execution_count": null,
   "metadata": {
    "pycharm": {
     "name": "#%%\n"
    }
   },
   "outputs": [],
   "source": [
    "chemical_feats = [column for column in wine_qual_df if column not in ['quality_label', 'quality', 'type']]"
   ]
  },
  {
   "cell_type": "code",
   "execution_count": null,
   "metadata": {
    "pycharm": {
     "name": "#%%\n"
    }
   },
   "outputs": [],
   "source": [
    "_, axs = plt.subplots(len(chemical_feats), figsize=(10,25))\n",
    "for i, feat in enumerate(chemical_feats):\n",
    "     sns.barplot(y=wine_qual_df[feat], x=wine_qual_df['type'], estimator=np.median, ax=axs[i])"
   ]
  },
  {
   "cell_type": "markdown",
   "metadata": {},
   "source": [
    "Видим, что стат. значимые различия отсутствуют только в крепости (*alcohol*) и плтоности (*density*) вин."
   ]
  },
  {
   "cell_type": "markdown",
   "metadata": {},
   "source": [
    "Видим, что таргетные метки качества сильно несбалансированы, высокую оценку получили всего 198 вин:"
   ]
  },
  {
   "cell_type": "code",
   "execution_count": null,
   "metadata": {
    "pycharm": {
     "name": "#%%\n"
    }
   },
   "outputs": [],
   "source": [
    "wine_qual_df['quality_label'].value_counts()"
   ]
  },
  {
   "cell_type": "markdown",
   "metadata": {},
   "source": [
    "Присутствуют пропущенные значения, но их не так уж и много, в данной работе решил заполнять пропуски после фильтрации выбросов, плюс, отфильтрованные значения не будут удаляться, а просто их значения будут заменяться на NaN и в дальнейшем с остальными пропусками заполнятся аналогичным образом."
   ]
  },
  {
   "cell_type": "code",
   "execution_count": null,
   "metadata": {
    "pycharm": {
     "name": "#%%\n"
    }
   },
   "outputs": [],
   "source": [
    "wine_qual_df.isna().sum()"
   ]
  },
  {
   "cell_type": "markdown",
   "metadata": {},
   "source": [
    "Построим графики boxplot для количественных переменных:"
   ]
  },
  {
   "cell_type": "code",
   "execution_count": null,
   "metadata": {
    "pycharm": {
     "name": "#%%\n"
    }
   },
   "outputs": [],
   "source": [
    "_, axs = plt.subplots(len(chemical_feats), figsize=(10,40))\n",
    "for i, feat in enumerate(chemical_feats):\n",
    "     sns.boxplot(y=wine_qual_df[feat], x=wine_qual_df['type'], ax=axs[i])"
   ]
  },
  {
   "cell_type": "markdown",
   "metadata": {},
   "source": [
    "Можно опять пронаблюдать различия в медианах выборок и наличие множества выбросов, заменим наблюдения, выпадающие за интервал \n",
    "[Q1-1.5*IQR, Q3+1.5*IQR], на *Nan* значения, далее заполним их средними значениями для соответствующих выборок. "
   ]
  },
  {
   "cell_type": "code",
   "execution_count": null,
   "metadata": {
    "pycharm": {
     "name": "#%%\n"
    }
   },
   "outputs": [],
   "source": [
    "for wine_type in ['white', 'red']:\n",
    "    for column in chemical_feats:\n",
    "        Q1 = wine_qual_df.loc[wine_qual_df['type']==wine_type, column].quantile(0.25)\n",
    "        Q3 = wine_qual_df.loc[wine_qual_df['type']==wine_type, column].quantile(0.75)\n",
    "        IQR = Q3 - Q1\n",
    "        filter_cond = ((wine_qual_df[column]<(Q1 - 1.5*IQR))| (wine_qual_df[column]>(Q3 + 1.5*IQR)))\n",
    "        wine_qual_df.loc[(wine_qual_df['type']==wine_type)&(filter_cond),column] = np.nan "
   ]
  },
  {
   "cell_type": "markdown",
   "metadata": {},
   "source": [
    "Ещё раз построим boxplot'ы и проверим, что фильтрация прошла успешно"
   ]
  },
  {
   "cell_type": "code",
   "execution_count": null,
   "metadata": {
    "pycharm": {
     "name": "#%%\n"
    }
   },
   "outputs": [],
   "source": [
    "_, axs = plt.subplots(len(chemical_feats), figsize=(10,40))\n",
    "for i, feat in enumerate(chemical_feats):\n",
    "     sns.boxplot(y=wine_qual_df[feat], x=wine_qual_df['type'], ax=axs[i])"
   ]
  },
  {
   "cell_type": "markdown",
   "metadata": {},
   "source": [
    "Заменим пропущенные значения соответствующими средними значениями выборки признака в зависимости от типа вина:"
   ]
  },
  {
   "cell_type": "code",
   "execution_count": null,
   "metadata": {
    "pycharm": {
     "name": "#%%\n"
    }
   },
   "outputs": [],
   "source": [
    "for wine_type in ['white', 'red']:\n",
    "    wine_qual_df[wine_qual_df['type']==wine_type] = wine_qual_df[wine_qual_df['type']==wine_type]. \\\n",
    "                                        fillna(wine_qual_df[wine_qual_df['type']==wine_type].median())"
   ]
  },
  {
   "cell_type": "code",
   "execution_count": null,
   "metadata": {
    "pycharm": {
     "name": "#%%\n"
    }
   },
   "outputs": [],
   "source": [
    "wine_qual_df.isna().sum()"
   ]
  },
  {
   "cell_type": "markdown",
   "metadata": {},
   "source": [
    "Посмотрим на медианные значения количественных признаков в зависимости от типа вина и метки качества:"
   ]
  },
  {
   "cell_type": "code",
   "execution_count": null,
   "metadata": {
    "pycharm": {
     "name": "#%%\n"
    }
   },
   "outputs": [],
   "source": [
    "_, axs = plt.subplots(len(chemical_feats), 2, figsize=(20,40))\n",
    "red_wine = wine_qual_df[wine_qual_df['type']=='red'].copy()\n",
    "white_wine = wine_qual_df[wine_qual_df['type']=='white'].copy()\n",
    "axs[0, 0].set_title('Red wine:')\n",
    "axs[0, 1].set_title('White wine:')\n",
    "for i, feat in enumerate(chemical_feats):\n",
    "    sns.barplot(y=red_wine[feat], x=red_wine['quality_label'], estimator=np.median, ax=axs[i, 0])\n",
    "    sns.barplot(y=white_wine[feat], x=white_wine['quality_label'], estimator=np.median, ax=axs[i, 1])\n"
   ]
  },
  {
   "cell_type": "markdown",
   "metadata": {},
   "source": [
    "Во-первых можно обратить внимание на большие дов. интервалы для высоких оценок белых и особенно красных вин, это связано с тем, что красных высокооцененных вин в наборе данных всего 18, а белых хоть и в десять раз больше, но относительно мало. По этой причине довольно сложно определить стат. значимые различия характеристик в высокооцененных винах относительно остальных вин. Тем не менее, по полученным результатам можно сделать выводы:\n",
    "\n",
    "- Для красных вин:\n",
    "\n",
    "    - фиксированная кислотность никак стат. значимо не разделяет вина относительно полученных баллов;\n",
    "    - летучая кислотность разделяет стат. значимо низкооцененные вина от средне- и восокооцененных вин, следовательно, относительно более высокое содержание летучей кислотности отрицательно влияет на оценку экспертов;\n",
    "    - лимонная кислота в красных винах наоборот более располагает экспертов, низкооцененные красные вина имеют стат. значимые отличия от остальных;\n",
    "    - содержание натурального сахара в красном вине никак стат. значимо не влияет на выбор экспертов;\n",
    "    - концентрация хлоридов тоже не дает стат. значимых различий между всеми метками оценок, но между высокой и низкой оценкой эти различия присутствуют, более низкое содержание хлоридов в красном вине соответствует высоким оценкам;\n",
    "    - концентрация свободного диоксида серы не дает стат. значимых различий;\n",
    "    - а суммарная концентрация сульфадов дает стат. значимые различия между средне- и низкооцененными красными винами, более низкая концентрация сульфадов соответствует более высоким оценкам;\n",
    "    - плотность и кислотность по водородной шкале также не дают стат. значимых различий в оценках красных вин;\n",
    "    - концентрация сульфатов и крепость красного вина стат. значимо разделяют средне- и низкооцениваемые вина, их более высокие показатели соответствуют более высоким оценкам.\n",
    "    \n",
    "В данном случае следует с осторожностью делать выводы о стат. значимости или её отсутствии для высокооцененных красных вин, так как выборка в 18 объектов с трудом может являться репрезентативной, что и приводит к большому дов. интервалу.\n",
    "    \n",
    "- Для белых вин:\n",
    "    - фиксированная кислотность также как и в красных винах не разделяет стат. значимо наши выборки;\n",
    "    - летучая кислотность дает стат. значимые различия только между средне- и низкооцененными винами, что малоинформативно, так как обе выборки стат. значимо не различимы от высокооцененных белых вин;\n",
    "    - лимонная кислота в отличие от красных вин в белых винах никак стат. значимо не влияет на оценку экспертов;\n",
    "    - в случае с сахаром ситуация противоположная: более высокая концентрация сахара соответствует низкооцененным винам, а относительно более низкая - высоко- и среднеоцененным белым винам;\n",
    "    - концентрация хлоридов дает стат. значимые различия для оценок белых вин: более высокая концентрация свойственна низкооцененным винам, наименьшая концентрация - высокооцененным винам, средняя - среднеоцененным;\n",
    "    - концентрация свободного диоксида серы также как и для красного вина не дает стат. значимых различий;\n",
    "    - суммарная концентрация сульфадов, как и в случае с летучей кислотностью, дает стат. значимые различия только относительно низкооцененных вин,им соответствует более высокая концентрация, для средне- и высокооцененных стат. значимых отличий нету;\n",
    "    - далее, аналогично красным винам плотность и кислотность по водородной шкале не дают стат. значимых отличий, плюс, этих различий не дает и концентрация сульфатов, которая имела стат. значимость для красных вин;\n",
    "    - крепость алкоголя, как и в случае с красным вином, стат. значимо разделяет выборку с той же тенденцией: более низкая крепость соответствует низкооцененным  винам, более высокая крепость - высокооцененным винам, а относительно средняя крепость - среднеоцененным винам.\n",
    "    \n",
    "В целом можно сделать вывод, что белые и красные вина все-таки довольно разные напитки, и до сих пор не понятно, почему оба сорта вин присутствуют в наборе. А во-вторых, можно отметить некоторые характеристики, которые не дали стат. значимых различий на обоих сортах вин, например, фиксированная кислотность, плотность и кислотность по водородной шкале, но большинство признаков влияют в оценке красных и белых вин по разному.\n"
   ]
  },
  {
   "cell_type": "markdown",
   "metadata": {},
   "source": [
    "Посмотрим на корреляцию признаков для белого и красного вина:"
   ]
  },
  {
   "cell_type": "code",
   "execution_count": null,
   "metadata": {
    "pycharm": {
     "name": "#%%\n"
    }
   },
   "outputs": [],
   "source": [
    "_, axs = plt.subplots(2, figsize=(15, 25))\n",
    "\n",
    "for i, wine_type in enumerate(['white', 'red']):\n",
    "    corr = wine_qual_df[wine_qual_df['type']==wine_type].corr()\n",
    "    axs[i].set_title(f'Correlation for {wine_type} wine:')\n",
    "    sns.heatmap(corr, ax=axs[i], fmt=\".2f\", annot=True)"
   ]
  },
  {
   "cell_type": "markdown",
   "metadata": {},
   "source": [
    "Можем заметить, что для белого вина существует довольно сильная корреляция между концентрацией сахара и плотностью вина, также присутствует корреляция между плотностью и крепостью вина. У красных вин сильных корреляций между признаками не наблюдается.\n",
    "\n",
    "В корреляции с таргетным значением качества вин можем отметить, что наибольшую корреляцию имеет признак крепости алкоголя, как отмечалось ранее, крепость алкоголя стат. значима для обоих вин и имеется тенденция отдавать предпочтение более крепким винам. Также у красных вин можем отметить относительно высокую корреляцию у концентрации сульфата, при анализе на стат. значимость также были получены положительные результаты с этим признаком, причем как и в этом случае только с красным вином."
   ]
  },
  {
   "cell_type": "markdown",
   "metadata": {},
   "source": [
    "Посмотрим также на диаграммы рассеивания для вин:"
   ]
  },
  {
   "cell_type": "code",
   "execution_count": null,
   "metadata": {
    "pycharm": {
     "name": "#%%\n"
    }
   },
   "outputs": [],
   "source": [
    "wine_qual_df.quality.value_counts()"
   ]
  },
  {
   "cell_type": "code",
   "execution_count": null,
   "metadata": {
    "pycharm": {
     "name": "#%%\n"
    }
   },
   "outputs": [],
   "source": [
    "print(f'Red wine features pairwise plots by quality:')\n",
    "sns.pairplot(wine_qual_df[wine_qual_df['type']=='red'].drop(columns=['quality']),  hue='quality_label', corner=True)"
   ]
  },
  {
   "cell_type": "code",
   "execution_count": null,
   "metadata": {
    "pycharm": {
     "name": "#%%\n"
    }
   },
   "outputs": [],
   "source": [
    "print(f'White wine features pairwise plots by quality:')\n",
    "sns.pairplot(wine_qual_df[wine_qual_df['type']=='white'].drop(columns=['quality']),  hue='quality_label', corner=True)"
   ]
  },
  {
   "cell_type": "markdown",
   "metadata": {},
   "source": [
    "На диаграммах рассеивания видим уже знакомые корреляции признаков, и грустную картину о том, что кластеры наши сильно смешаны.\n",
    "Также впервые смотрим на распределения признаков, и можно заметить, что многие признаки имеют бимодальное распределение, что не есть хорошо, причиной может быть немного грубое разбиение оценок на категории, либо ненормальное оценивание вин \"экспертами\" (во всех смыслах этого слова).  "
   ]
  },
  {
   "cell_type": "markdown",
   "metadata": {},
   "source": [
    "Стандартизируем значения набора данных, это необходимо, так как масштаб значений напрямую влияет на получаемые расстояния в большинстве алгоритмов кластеризации:"
   ]
  },
  {
   "cell_type": "code",
   "execution_count": null,
   "metadata": {
    "pycharm": {
     "name": "#%%\n"
    }
   },
   "outputs": [],
   "source": [
    "from sklearn import preprocessing\n",
    "\n",
    "stand_transformer = preprocessing.StandardScaler()\n",
    "\n",
    "\n",
    "\n",
    "stand_transf = stand_transformer.fit_transform(wine_qual_df.loc[:, chemical_feats])\n",
    "\n",
    "stand_df = pd.DataFrame(stand_transf, columns=chemical_feats)\n",
    "stand_df[['quality_label', 'type']] = wine_qual_df.loc[:,['quality_label', 'type']]\n",
    "\n",
    "    "
   ]
  },
  {
   "cell_type": "code",
   "execution_count": null,
   "metadata": {
    "pycharm": {
     "name": "#%%\n"
    }
   },
   "outputs": [],
   "source": [
    "X = stand_df.drop(columns=['quality_label']).copy()\n",
    "y = stand_df.quality_label.copy()\n",
    "\n",
    "X.replace({'red': 0, 'white': 1}, inplace=True) \n",
    "y.replace({'low': 0, 'medium': 1, 'high': 2}, inplace=True) \n"
   ]
  },
  {
   "cell_type": "markdown",
   "metadata": {},
   "source": [
    "Функция для расчета среднего попарного внутрикластерного и межкластерного расстояния:"
   ]
  },
  {
   "cell_type": "code",
   "execution_count": null,
   "metadata": {
    "pycharm": {
     "name": "#%%\n"
    }
   },
   "outputs": [],
   "source": [
    "import functools\n",
    "from sklearn.metrics import pairwise_distances_chunked\n",
    "from sklearn.metrics.cluster._unsupervised import _silhouette_reduce\n",
    "\n",
    "def clust_dist(X, labels, *, metric='euclidean', **kwds):\n",
    "    X = X.loc[~(labels==-1), : ]\n",
    "    labels = labels[np.where(labels!=-1)]\n",
    "    \n",
    "    \n",
    "    label_freqs = np.bincount(labels)\n",
    "    reduce_func = functools.partial(_silhouette_reduce,\n",
    "                                    labels=labels, label_freqs=label_freqs)\n",
    "    results = zip(*pairwise_distances_chunked(X, reduce_func=reduce_func,\n",
    "                                              **kwds))\n",
    "    intra_clust_dists, inter_clust_dists = results\n",
    "    intra_clust_dists = np.concatenate(intra_clust_dists)\n",
    "    inter_clust_dists = np.concatenate(inter_clust_dists)\n",
    "    \n",
    "    # Нормализация внутрикласторных расстояний по частоте кластеров\n",
    "    denom = (label_freqs - 1).take(labels, mode='clip')\n",
    "    with np.errstate(divide=\"ignore\", invalid=\"ignore\"):\n",
    "        intra_clust_dists /= denom\n",
    "        \n",
    "    intra_clust_dists = np.nan_to_num(intra_clust_dists)\n",
    "    inter_clust_dists = np.nan_to_num(inter_clust_dists)\n",
    "    \n",
    "    return np.mean(intra_clust_dists), np.mean(inter_clust_dists)"
   ]
  },
  {
   "cell_type": "code",
   "execution_count": null,
   "metadata": {
    "pycharm": {
     "name": "#%%\n"
    }
   },
   "outputs": [],
   "source": [
    "from sklearn.metrics import adjusted_rand_score, v_measure_score, silhouette_score, calinski_harabasz_score\n",
    "from sklearn import cluster\n",
    "from timeit import default_timer as timer\n",
    "\n",
    "\n",
    "\n",
    "def test_clust_est(X, y, est_dict):\n",
    "    \n",
    "    clust_lbl_df = pd.DataFrame()\n",
    "    clust_lbl_df['labels'] = y.values\n",
    "    \n",
    "    for cluster_alg in est_dict.keys():\n",
    "        print(f'============ Cluster algorithm: {cluster_alg} ============\\n')\n",
    "        t_start = timer()\n",
    "        est = est_dict[cluster_alg]\n",
    "        labels_pred = est.fit_predict(X, y)\n",
    "        t_stop = timer()\n",
    "        print(\"time: {:.4f}s\\n\".format(t_stop-t_start))\n",
    "\n",
    "        n_clusters_ = len(set(labels_pred))- (1 if -1 in labels_pred else 0)\n",
    "        print('Amount of clusters:', n_clusters_,'\\n')\n",
    "        \n",
    "        clust_lbl_df[f'{cluster_alg}_labels'] = labels_pred\n",
    "        \n",
    "        if n_clusters_ == 1:\n",
    "            continue\n",
    "            \n",
    "        print(f'Adjusted rand score: {adjusted_rand_score(y, labels_pred)}\\n')\n",
    "        print(f'Intra- and inter-cluster distance:{clust_dist(X, labels_pred)}\\n')\n",
    "        print(f'V_measure score: {v_measure_score(y, labels_pred)}\\n')\n",
    "        print(f'Silhouette score: {silhouette_score(X, labels_pred)}\\n')\n",
    "        print(f'Calinski-Harabasz score: {calinski_harabasz_score(X, labels_pred)}\\n')\n",
    "        \n",
    "    return clust_lbl_df\n",
    "\n"
   ]
  },
  {
   "cell_type": "code",
   "execution_count": null,
   "metadata": {
    "pycharm": {
     "name": "#%%\n"
    }
   },
   "outputs": [],
   "source": [
    "estimators = {'K-means': cluster.KMeans(n_clusters=3, random_state=42),\n",
    "              'MeanShift': cluster.MeanShift(n_jobs=-1),\n",
    "              'DBSCAN': cluster.DBSCAN(n_jobs=-1),\n",
    "              'AffinityPropagation': cluster.AffinityPropagation(random_state=42)}"
   ]
  },
  {
   "cell_type": "code",
   "execution_count": null,
   "metadata": {
    "pycharm": {
     "name": "#%%\n"
    }
   },
   "outputs": [],
   "source": [
    "norm_clust_lbls = test_clust_est(X, y, estimators)"
   ]
  },
  {
   "cell_type": "code",
   "execution_count": null,
   "metadata": {
    "pycharm": {
     "name": "#%%\n"
    }
   },
   "outputs": [],
   "source": [
    "_, axs = plt.subplots(norm_clust_lbls.shape[1], figsize=(10,30))\n",
    "\n",
    "for i, label in enumerate(norm_clust_lbls.columns):\n",
    "    sns.scatterplot(x=X.chlorides, y=X.alcohol, hue=norm_clust_lbls[label], ax=axs[i])\n",
    "    axs[i].set_title(f'{label}')"
   ]
  },
  {
   "cell_type": "code",
   "execution_count": null,
   "metadata": {
    "pycharm": {
     "name": "#%%\n"
    }
   },
   "outputs": [],
   "source": [
    "По диаграммам рассеивания и значениям метрик можем сделать вывод, что задача кластеризации вина в соответствии с оценками трудновыполнима, так как классы смешаны, помимо этого, объекты оценки *high* распределены в пространстве признаков таким образом, что не имеют явного скопления объектов, то есть плотности кластера, в совокупности со смешением с объектами других кластеров задача выделить кластер высокооцененного вина стоновится недостижимой."
   ]
  }
 ],
 "metadata": {
  "kernelspec": {
   "display_name": "Python 3",
   "language": "python",
   "name": "python3"
  },
  "language_info": {
   "codemirror_mode": {
    "name": "ipython",
    "version": 3
   },
   "file_extension": ".py",
   "mimetype": "text/x-python",
   "name": "python",
   "nbconvert_exporter": "python",
   "pygments_lexer": "ipython3",
   "version": "3.8.5"
  }
 },
 "nbformat": 4,
 "nbformat_minor": 1
}
